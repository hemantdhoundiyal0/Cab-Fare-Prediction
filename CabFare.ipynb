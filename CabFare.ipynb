{
 "cells": [
  {
   "cell_type": "code",
   "execution_count": 200,
   "metadata": {},
   "outputs": [],
   "source": [
    "#import the os library\n",
    "import os"
   ]
  },
  {
   "cell_type": "code",
   "execution_count": 201,
   "metadata": {},
   "outputs": [],
   "source": [
    "# setting the working directory\n",
    "os.chdir(\"C:\\\\Users\\\\admin\\\\Downloads\")"
   ]
  },
  {
   "cell_type": "code",
   "execution_count": 202,
   "metadata": {},
   "outputs": [
    {
     "data": {
      "text/plain": [
       "'C:\\\\Users\\\\admin\\\\Downloads'"
      ]
     },
     "execution_count": 202,
     "metadata": {},
     "output_type": "execute_result"
    }
   ],
   "source": [
    "# checking the working directory\n",
    "os.getcwd()"
   ]
  },
  {
   "cell_type": "code",
   "execution_count": 203,
   "metadata": {},
   "outputs": [],
   "source": [
    "# importing the few more required libraries\n",
    "import pandas as pd\n",
    "import matplotlib as mlt\n",
    "import numpy as np\n",
    "import datetime\n",
    "import seaborn as sns\n",
    "import matplotlib as mlt\n",
    "import matplotlib.pyplot as plt\n",
    "%matplotlib inline\n",
    "import statsmodels.api as sm\n",
    "from sklearn.model_selection import train_test_split\n",
    "from sklearn.linear_model import LinearRegression\n"
   ]
  },
  {
   "cell_type": "code",
   "execution_count": 204,
   "metadata": {},
   "outputs": [],
   "source": [
    "# getting the data from the directory\n",
    "df=pd.read_csv(\"train_cab.csv\")\n",
    "df_test=pd.read_csv(\"test.csv\")"
   ]
  },
  {
   "cell_type": "code",
   "execution_count": 205,
   "metadata": {},
   "outputs": [
    {
     "data": {
      "text/plain": [
       "Index(['fare_amount', 'pickup_datetime', 'pickup_longitude', 'pickup_latitude',\n",
       "       'dropoff_longitude', 'dropoff_latitude', 'passenger_count'],\n",
       "      dtype='object')"
      ]
     },
     "execution_count": 205,
     "metadata": {},
     "output_type": "execute_result"
    }
   ],
   "source": [
    "# name of the columns\n",
    "df.columns"
   ]
  },
  {
   "cell_type": "code",
   "execution_count": 206,
   "metadata": {
    "scrolled": true
   },
   "outputs": [
    {
     "data": {
      "text/plain": [
       "(16067, 7)"
      ]
     },
     "execution_count": 206,
     "metadata": {},
     "output_type": "execute_result"
    }
   ],
   "source": [
    "# checking, how many observations(rows) and features(columns) are there\n",
    "df.shape"
   ]
  },
  {
   "cell_type": "code",
   "execution_count": 207,
   "metadata": {},
   "outputs": [
    {
     "data": {
      "text/plain": [
       "pandas.core.frame.DataFrame"
      ]
     },
     "execution_count": 207,
     "metadata": {},
     "output_type": "execute_result"
    }
   ],
   "source": [
    "# checking the data type as the whole dataset\n",
    "type(df)"
   ]
  },
  {
   "cell_type": "code",
   "execution_count": 208,
   "metadata": {},
   "outputs": [
    {
     "data": {
      "text/html": [
       "<div>\n",
       "<style scoped>\n",
       "    .dataframe tbody tr th:only-of-type {\n",
       "        vertical-align: middle;\n",
       "    }\n",
       "\n",
       "    .dataframe tbody tr th {\n",
       "        vertical-align: top;\n",
       "    }\n",
       "\n",
       "    .dataframe thead th {\n",
       "        text-align: right;\n",
       "    }\n",
       "</style>\n",
       "<table border=\"1\" class=\"dataframe\">\n",
       "  <thead>\n",
       "    <tr style=\"text-align: right;\">\n",
       "      <th></th>\n",
       "      <th>fare_amount</th>\n",
       "      <th>pickup_datetime</th>\n",
       "      <th>pickup_longitude</th>\n",
       "      <th>pickup_latitude</th>\n",
       "      <th>dropoff_longitude</th>\n",
       "      <th>dropoff_latitude</th>\n",
       "      <th>passenger_count</th>\n",
       "    </tr>\n",
       "  </thead>\n",
       "  <tbody>\n",
       "    <tr>\n",
       "      <th>0</th>\n",
       "      <td>4.5</td>\n",
       "      <td>2009-06-15 17:26:21 UTC</td>\n",
       "      <td>-73.844311</td>\n",
       "      <td>40.721319</td>\n",
       "      <td>-73.841610</td>\n",
       "      <td>40.712278</td>\n",
       "      <td>1.0</td>\n",
       "    </tr>\n",
       "    <tr>\n",
       "      <th>1</th>\n",
       "      <td>16.9</td>\n",
       "      <td>2010-01-05 16:52:16 UTC</td>\n",
       "      <td>-74.016048</td>\n",
       "      <td>40.711303</td>\n",
       "      <td>-73.979268</td>\n",
       "      <td>40.782004</td>\n",
       "      <td>1.0</td>\n",
       "    </tr>\n",
       "    <tr>\n",
       "      <th>2</th>\n",
       "      <td>5.7</td>\n",
       "      <td>2011-08-18 00:35:00 UTC</td>\n",
       "      <td>-73.982738</td>\n",
       "      <td>40.761270</td>\n",
       "      <td>-73.991242</td>\n",
       "      <td>40.750562</td>\n",
       "      <td>2.0</td>\n",
       "    </tr>\n",
       "    <tr>\n",
       "      <th>3</th>\n",
       "      <td>7.7</td>\n",
       "      <td>2012-04-21 04:30:42 UTC</td>\n",
       "      <td>-73.987130</td>\n",
       "      <td>40.733143</td>\n",
       "      <td>-73.991567</td>\n",
       "      <td>40.758092</td>\n",
       "      <td>1.0</td>\n",
       "    </tr>\n",
       "    <tr>\n",
       "      <th>4</th>\n",
       "      <td>5.3</td>\n",
       "      <td>2010-03-09 07:51:00 UTC</td>\n",
       "      <td>-73.968095</td>\n",
       "      <td>40.768008</td>\n",
       "      <td>-73.956655</td>\n",
       "      <td>40.783762</td>\n",
       "      <td>1.0</td>\n",
       "    </tr>\n",
       "    <tr>\n",
       "      <th>5</th>\n",
       "      <td>12.1</td>\n",
       "      <td>2011-01-06 09:50:45 UTC</td>\n",
       "      <td>-74.000964</td>\n",
       "      <td>40.731630</td>\n",
       "      <td>-73.972892</td>\n",
       "      <td>40.758233</td>\n",
       "      <td>1.0</td>\n",
       "    </tr>\n",
       "    <tr>\n",
       "      <th>6</th>\n",
       "      <td>7.5</td>\n",
       "      <td>2012-11-20 20:35:00 UTC</td>\n",
       "      <td>-73.980002</td>\n",
       "      <td>40.751662</td>\n",
       "      <td>-73.973802</td>\n",
       "      <td>40.764842</td>\n",
       "      <td>1.0</td>\n",
       "    </tr>\n",
       "    <tr>\n",
       "      <th>7</th>\n",
       "      <td>16.5</td>\n",
       "      <td>2012-01-04 17:22:00 UTC</td>\n",
       "      <td>-73.951300</td>\n",
       "      <td>40.774138</td>\n",
       "      <td>-73.990095</td>\n",
       "      <td>40.751048</td>\n",
       "      <td>1.0</td>\n",
       "    </tr>\n",
       "    <tr>\n",
       "      <th>8</th>\n",
       "      <td>NaN</td>\n",
       "      <td>2012-12-03 13:10:00 UTC</td>\n",
       "      <td>-74.006462</td>\n",
       "      <td>40.726713</td>\n",
       "      <td>-73.993078</td>\n",
       "      <td>40.731628</td>\n",
       "      <td>1.0</td>\n",
       "    </tr>\n",
       "    <tr>\n",
       "      <th>9</th>\n",
       "      <td>8.9</td>\n",
       "      <td>2009-09-02 01:11:00 UTC</td>\n",
       "      <td>-73.980658</td>\n",
       "      <td>40.733873</td>\n",
       "      <td>-73.991540</td>\n",
       "      <td>40.758138</td>\n",
       "      <td>2.0</td>\n",
       "    </tr>\n",
       "  </tbody>\n",
       "</table>\n",
       "</div>"
      ],
      "text/plain": [
       "  fare_amount          pickup_datetime  pickup_longitude  pickup_latitude  \\\n",
       "0         4.5  2009-06-15 17:26:21 UTC        -73.844311        40.721319   \n",
       "1        16.9  2010-01-05 16:52:16 UTC        -74.016048        40.711303   \n",
       "2         5.7  2011-08-18 00:35:00 UTC        -73.982738        40.761270   \n",
       "3         7.7  2012-04-21 04:30:42 UTC        -73.987130        40.733143   \n",
       "4         5.3  2010-03-09 07:51:00 UTC        -73.968095        40.768008   \n",
       "5        12.1  2011-01-06 09:50:45 UTC        -74.000964        40.731630   \n",
       "6         7.5  2012-11-20 20:35:00 UTC        -73.980002        40.751662   \n",
       "7        16.5  2012-01-04 17:22:00 UTC        -73.951300        40.774138   \n",
       "8         NaN  2012-12-03 13:10:00 UTC        -74.006462        40.726713   \n",
       "9         8.9  2009-09-02 01:11:00 UTC        -73.980658        40.733873   \n",
       "\n",
       "   dropoff_longitude  dropoff_latitude  passenger_count  \n",
       "0         -73.841610         40.712278              1.0  \n",
       "1         -73.979268         40.782004              1.0  \n",
       "2         -73.991242         40.750562              2.0  \n",
       "3         -73.991567         40.758092              1.0  \n",
       "4         -73.956655         40.783762              1.0  \n",
       "5         -73.972892         40.758233              1.0  \n",
       "6         -73.973802         40.764842              1.0  \n",
       "7         -73.990095         40.751048              1.0  \n",
       "8         -73.993078         40.731628              1.0  \n",
       "9         -73.991540         40.758138              2.0  "
      ]
     },
     "execution_count": 208,
     "metadata": {},
     "output_type": "execute_result"
    }
   ],
   "source": [
    "# top 10 rows of the dataset\n",
    "df.iloc[:10,]"
   ]
  },
  {
   "cell_type": "code",
   "execution_count": 209,
   "metadata": {},
   "outputs": [
    {
     "data": {
      "text/plain": [
       "fare_amount           object\n",
       "pickup_datetime       object\n",
       "pickup_longitude     float64\n",
       "pickup_latitude      float64\n",
       "dropoff_longitude    float64\n",
       "dropoff_latitude     float64\n",
       "passenger_count      float64\n",
       "dtype: object"
      ]
     },
     "execution_count": 209,
     "metadata": {},
     "output_type": "execute_result"
    }
   ],
   "source": [
    "#Checking the datatpe of all the variables \n",
    "df.dtypes"
   ]
  },
  {
   "cell_type": "code",
   "execution_count": 210,
   "metadata": {},
   "outputs": [],
   "source": [
    "# converting the fare_amount variable to numeric \n",
    "df[\"fare_amount\"]=pd.to_numeric(df[\"fare_amount\"],errors=\"coerce\")"
   ]
  },
  {
   "cell_type": "code",
   "execution_count": 211,
   "metadata": {},
   "outputs": [
    {
     "data": {
      "text/html": [
       "<div>\n",
       "<style scoped>\n",
       "    .dataframe tbody tr th:only-of-type {\n",
       "        vertical-align: middle;\n",
       "    }\n",
       "\n",
       "    .dataframe tbody tr th {\n",
       "        vertical-align: top;\n",
       "    }\n",
       "\n",
       "    .dataframe thead th {\n",
       "        text-align: right;\n",
       "    }\n",
       "</style>\n",
       "<table border=\"1\" class=\"dataframe\">\n",
       "  <thead>\n",
       "    <tr style=\"text-align: right;\">\n",
       "      <th></th>\n",
       "      <th>fare_amount</th>\n",
       "      <th>pickup_longitude</th>\n",
       "      <th>pickup_latitude</th>\n",
       "      <th>dropoff_longitude</th>\n",
       "      <th>dropoff_latitude</th>\n",
       "      <th>passenger_count</th>\n",
       "    </tr>\n",
       "  </thead>\n",
       "  <tbody>\n",
       "    <tr>\n",
       "      <th>count</th>\n",
       "      <td>16042.000000</td>\n",
       "      <td>16067.000000</td>\n",
       "      <td>16067.000000</td>\n",
       "      <td>16067.000000</td>\n",
       "      <td>16067.000000</td>\n",
       "      <td>16012.000000</td>\n",
       "    </tr>\n",
       "    <tr>\n",
       "      <th>mean</th>\n",
       "      <td>15.015004</td>\n",
       "      <td>-72.462787</td>\n",
       "      <td>39.914725</td>\n",
       "      <td>-72.462328</td>\n",
       "      <td>39.897906</td>\n",
       "      <td>2.625070</td>\n",
       "    </tr>\n",
       "    <tr>\n",
       "      <th>std</th>\n",
       "      <td>430.460945</td>\n",
       "      <td>10.578384</td>\n",
       "      <td>6.826587</td>\n",
       "      <td>10.575062</td>\n",
       "      <td>6.187087</td>\n",
       "      <td>60.844122</td>\n",
       "    </tr>\n",
       "    <tr>\n",
       "      <th>min</th>\n",
       "      <td>-3.000000</td>\n",
       "      <td>-74.438233</td>\n",
       "      <td>-74.006893</td>\n",
       "      <td>-74.429332</td>\n",
       "      <td>-74.006377</td>\n",
       "      <td>0.000000</td>\n",
       "    </tr>\n",
       "    <tr>\n",
       "      <th>25%</th>\n",
       "      <td>6.000000</td>\n",
       "      <td>-73.992156</td>\n",
       "      <td>40.734927</td>\n",
       "      <td>-73.991182</td>\n",
       "      <td>40.734651</td>\n",
       "      <td>1.000000</td>\n",
       "    </tr>\n",
       "    <tr>\n",
       "      <th>50%</th>\n",
       "      <td>8.500000</td>\n",
       "      <td>-73.981698</td>\n",
       "      <td>40.752603</td>\n",
       "      <td>-73.980172</td>\n",
       "      <td>40.753567</td>\n",
       "      <td>1.000000</td>\n",
       "    </tr>\n",
       "    <tr>\n",
       "      <th>75%</th>\n",
       "      <td>12.500000</td>\n",
       "      <td>-73.966838</td>\n",
       "      <td>40.767381</td>\n",
       "      <td>-73.963643</td>\n",
       "      <td>40.768013</td>\n",
       "      <td>2.000000</td>\n",
       "    </tr>\n",
       "    <tr>\n",
       "      <th>max</th>\n",
       "      <td>54343.000000</td>\n",
       "      <td>40.766125</td>\n",
       "      <td>401.083332</td>\n",
       "      <td>40.802437</td>\n",
       "      <td>41.366138</td>\n",
       "      <td>5345.000000</td>\n",
       "    </tr>\n",
       "  </tbody>\n",
       "</table>\n",
       "</div>"
      ],
      "text/plain": [
       "        fare_amount  pickup_longitude  pickup_latitude  dropoff_longitude  \\\n",
       "count  16042.000000      16067.000000     16067.000000       16067.000000   \n",
       "mean      15.015004        -72.462787        39.914725         -72.462328   \n",
       "std      430.460945         10.578384         6.826587          10.575062   \n",
       "min       -3.000000        -74.438233       -74.006893         -74.429332   \n",
       "25%        6.000000        -73.992156        40.734927         -73.991182   \n",
       "50%        8.500000        -73.981698        40.752603         -73.980172   \n",
       "75%       12.500000        -73.966838        40.767381         -73.963643   \n",
       "max    54343.000000         40.766125       401.083332          40.802437   \n",
       "\n",
       "       dropoff_latitude  passenger_count  \n",
       "count      16067.000000     16012.000000  \n",
       "mean          39.897906         2.625070  \n",
       "std            6.187087        60.844122  \n",
       "min          -74.006377         0.000000  \n",
       "25%           40.734651         1.000000  \n",
       "50%           40.753567         1.000000  \n",
       "75%           40.768013         2.000000  \n",
       "max           41.366138      5345.000000  "
      ]
     },
     "execution_count": 211,
     "metadata": {},
     "output_type": "execute_result"
    }
   ],
   "source": [
    "# summary of all the variables\n",
    "df.describe()"
   ]
  },
  {
   "cell_type": "code",
   "execution_count": 212,
   "metadata": {},
   "outputs": [
    {
     "data": {
      "text/plain": [
       "1.00       11259\n",
       "2.00        2322\n",
       "5.00        1045\n",
       "3.00         676\n",
       "4.00         329\n",
       "6.00         302\n",
       "0.00          57\n",
       "43.00          2\n",
       "53.00          2\n",
       "0.12           1\n",
       "1.30           1\n",
       "531.20         1\n",
       "345.00         1\n",
       "456.00         1\n",
       "87.00          1\n",
       "55.00          1\n",
       "58.00          1\n",
       "236.00         1\n",
       "535.00         1\n",
       "536.00         1\n",
       "537.00         1\n",
       "554.00         1\n",
       "5334.00        1\n",
       "35.00          1\n",
       "5345.00        1\n",
       "557.00         1\n",
       "354.00         1\n",
       "Name: passenger_count, dtype: int64"
      ]
     },
     "execution_count": 212,
     "metadata": {},
     "output_type": "execute_result"
    }
   ],
   "source": [
    "#lets see the distribution of unique values for fare_amount\n",
    "df[\"passenger_count\"].value_counts()"
   ]
  },
  {
   "cell_type": "code",
   "execution_count": 213,
   "metadata": {},
   "outputs": [
    {
     "data": {
      "text/plain": [
       "6.50      759\n",
       "4.50      671\n",
       "8.50      630\n",
       "5.30      475\n",
       "4.90      464\n",
       "5.70      463\n",
       "6.10      461\n",
       "6.90      427\n",
       "10.50     414\n",
       "7.30      379\n",
       "7.70      366\n",
       "8.10      365\n",
       "6.00      355\n",
       "5.50      353\n",
       "4.10      343\n",
       "7.00      341\n",
       "5.00      308\n",
       "8.00      301\n",
       "7.50      300\n",
       "8.90      282\n",
       "9.00      278\n",
       "9.50      271\n",
       "9.30      257\n",
       "12.50     255\n",
       "11.00     224\n",
       "9.70      223\n",
       "10.10     218\n",
       "10.00     212\n",
       "3.70      210\n",
       "10.90     169\n",
       "         ... \n",
       "28.25       1\n",
       "59.50       1\n",
       "26.30       1\n",
       "95.00       1\n",
       "15.40       1\n",
       "69.70       1\n",
       "453.00      1\n",
       "165.00      1\n",
       "47.04       1\n",
       "31.07       1\n",
       "25.20       1\n",
       "36.04       1\n",
       "70.00       1\n",
       "33.29       1\n",
       "26.80       1\n",
       "55.83       1\n",
       "54.61       1\n",
       "180.00      1\n",
       "31.60       1\n",
       "108.00      1\n",
       "39.00       1\n",
       "46.00       1\n",
       "34.27       1\n",
       "35.07       1\n",
       "75.33       1\n",
       "42.67       1\n",
       "54.30       1\n",
       "29.40       1\n",
       "37.87       1\n",
       "52.33       1\n",
       "Name: fare_amount, Length: 467, dtype: int64"
      ]
     },
     "execution_count": 213,
     "metadata": {},
     "output_type": "execute_result"
    }
   ],
   "source": [
    "df[\"fare_amount\"].value_counts()"
   ]
  },
  {
   "cell_type": "code",
   "execution_count": 214,
   "metadata": {},
   "outputs": [
    {
     "data": {
      "text/plain": [
       "pandas.core.series.Series"
      ]
     },
     "execution_count": 214,
     "metadata": {},
     "output_type": "execute_result"
    }
   ],
   "source": [
    "# checking the data type of the variable pickup_datetime\n",
    "type(df[\"pickup_datetime\"])"
   ]
  },
  {
   "cell_type": "code",
   "execution_count": 215,
   "metadata": {},
   "outputs": [
    {
     "data": {
      "text/plain": [
       " 0.000000     315\n",
       "-73.137393     10\n",
       "-73.985652      4\n",
       "-73.981497      4\n",
       "-73.991467      4\n",
       "-73.989832      4\n",
       "-73.967178      4\n",
       "-73.975040      4\n",
       "-73.981158      4\n",
       "-73.952260      4\n",
       "-73.994200      4\n",
       "-73.977897      4\n",
       "-73.988883      4\n",
       "-73.986083      4\n",
       "-73.988132      4\n",
       "-73.995900      4\n",
       "-73.991037      4\n",
       "-73.991797      4\n",
       "-73.982130      4\n",
       "-73.976162      4\n",
       "-73.995757      4\n",
       "-73.978177      4\n",
       "-73.982352      4\n",
       "-73.971732      4\n",
       "-74.004060      3\n",
       "-73.982165      3\n",
       "-73.983620      3\n",
       "-74.006525      3\n",
       "-73.991580      3\n",
       "-73.990909      3\n",
       "             ... \n",
       "-74.016055      1\n",
       "-73.971217      1\n",
       "-73.922409      1\n",
       "-73.954823      1\n",
       "-73.952912      1\n",
       "-74.007398      1\n",
       "-73.964585      1\n",
       "-73.944576      1\n",
       "-73.980164      1\n",
       "-73.964589      1\n",
       "-73.937673      1\n",
       "-73.971018      1\n",
       "-73.978265      1\n",
       "-74.007287      1\n",
       "-73.988604      1\n",
       "-74.005567      1\n",
       "-73.978075      1\n",
       "-73.994883      1\n",
       "-73.970632      1\n",
       "-73.997040      1\n",
       "-74.003448      1\n",
       "-73.973533      1\n",
       "-73.989357      1\n",
       "-73.980720      1\n",
       "-73.987404      1\n",
       "-73.950290      1\n",
       "-73.977794      1\n",
       "-73.965877      1\n",
       "-73.778420      1\n",
       "-73.956284      1\n",
       "Name: pickup_longitude, Length: 13789, dtype: int64"
      ]
     },
     "execution_count": 215,
     "metadata": {},
     "output_type": "execute_result"
    }
   ],
   "source": [
    "# counts of unique values in the variable(pickup_longitude)\n",
    "df[\"pickup_longitude\"].value_counts()"
   ]
  },
  {
   "cell_type": "code",
   "execution_count": 216,
   "metadata": {},
   "outputs": [
    {
     "data": {
      "text/plain": [
       "0.000000     315\n",
       "41.366138     10\n",
       "40.759397      5\n",
       "40.759922      4\n",
       "40.747282      4\n",
       "40.755815      4\n",
       "40.761557      4\n",
       "40.788582      4\n",
       "40.748722      4\n",
       "40.760160      4\n",
       "40.753492      4\n",
       "40.739887      4\n",
       "40.765572      4\n",
       "40.769132      3\n",
       "40.750962      3\n",
       "40.725552      3\n",
       "40.769027      3\n",
       "40.740610      3\n",
       "40.734622      3\n",
       "40.755762      3\n",
       "40.724238      3\n",
       "40.778642      3\n",
       "40.760230      3\n",
       "40.724965      3\n",
       "40.761247      3\n",
       "40.762443      3\n",
       "40.740362      3\n",
       "40.774047      3\n",
       "40.737547      3\n",
       "40.751015      3\n",
       "            ... \n",
       "40.769053      1\n",
       "40.738093      1\n",
       "40.761458      1\n",
       "40.740337      1\n",
       "40.779925      1\n",
       "40.747215      1\n",
       "40.776642      1\n",
       "40.738475      1\n",
       "40.785452      1\n",
       "40.753527      1\n",
       "40.791088      1\n",
       "40.680643      1\n",
       "40.749525      1\n",
       "40.762280      1\n",
       "40.753892      1\n",
       "40.769358      1\n",
       "40.759247      1\n",
       "40.756729      1\n",
       "40.745852      1\n",
       "40.749984      1\n",
       "40.729600      1\n",
       "40.766385      1\n",
       "40.755331      1\n",
       "40.739142      1\n",
       "40.728562      1\n",
       "40.768944      1\n",
       "40.756810      1\n",
       "40.808133      1\n",
       "40.745332      1\n",
       "40.721812      1\n",
       "Name: pickup_latitude, Length: 14241, dtype: int64"
      ]
     },
     "execution_count": 216,
     "metadata": {},
     "output_type": "execute_result"
    }
   ],
   "source": [
    "#counts of unique values in the variable(pickup_latitude)\n",
    "df[\"pickup_latitude\"].value_counts()"
   ]
  },
  {
   "cell_type": "code",
   "execution_count": 217,
   "metadata": {},
   "outputs": [
    {
     "data": {
      "text/plain": [
       " 0.000000     314\n",
       "-73.137393      7\n",
       "-73.982407      5\n",
       "-73.992352      5\n",
       "-73.976352      4\n",
       "-73.982967      4\n",
       "-73.976120      4\n",
       "-74.000670      4\n",
       "-73.982292      4\n",
       "-73.982045      4\n",
       "-73.983348      4\n",
       "-73.991182      4\n",
       "-73.981545      4\n",
       "-73.980812      4\n",
       "-73.988485      4\n",
       "-74.002877      4\n",
       "-73.991512      4\n",
       "-73.980793      4\n",
       "-73.992380      4\n",
       "-73.991850      4\n",
       "-73.973796      4\n",
       "-73.971690      3\n",
       "-73.979297      3\n",
       "-73.979292      3\n",
       "-73.982200      3\n",
       "-73.988812      3\n",
       "-73.983838      3\n",
       "-73.977537      3\n",
       "-73.982980      3\n",
       "-73.986743      3\n",
       "             ... \n",
       "-73.992743      1\n",
       "-73.914269      1\n",
       "-73.979295      1\n",
       "-73.968014      1\n",
       "-73.975197      1\n",
       "-73.976068      1\n",
       "-73.946434      1\n",
       "-73.980092      1\n",
       "-73.958065      1\n",
       "-74.006267      1\n",
       "-73.948907      1\n",
       "-73.947015      1\n",
       "-73.992198      1\n",
       "-73.953800      1\n",
       "-73.975822      1\n",
       "-74.012050      1\n",
       "-73.958107      1\n",
       "-73.998580      1\n",
       "-73.982637      1\n",
       "-74.001088      1\n",
       "-73.995969      1\n",
       "-73.978448      1\n",
       "-73.990446      1\n",
       "-73.988210      1\n",
       "-73.962491      1\n",
       "-73.993687      1\n",
       "-73.996783      1\n",
       "-73.981303      1\n",
       "-73.994268      1\n",
       "-73.981898      1\n",
       "Name: dropoff_longitude, Length: 13887, dtype: int64"
      ]
     },
     "execution_count": 217,
     "metadata": {},
     "output_type": "execute_result"
    }
   ],
   "source": [
    "# counts of unique values in the variable(pickup_longitude)\n",
    "df[\"dropoff_longitude\"].value_counts()"
   ]
  },
  {
   "cell_type": "code",
   "execution_count": 218,
   "metadata": {},
   "outputs": [
    {
     "data": {
      "text/plain": [
       "0.000000     312\n",
       "41.366138      7\n",
       "40.773012      4\n",
       "40.763325      4\n",
       "40.752378      4\n",
       "40.750038      4\n",
       "40.758520      4\n",
       "40.746792      4\n",
       "40.739932      4\n",
       "40.760270      4\n",
       "40.764357      4\n",
       "40.763892      4\n",
       "40.763682      4\n",
       "40.761185      4\n",
       "40.752352      4\n",
       "40.761235      4\n",
       "40.777520      4\n",
       "40.763422      4\n",
       "40.758697      3\n",
       "40.763175      3\n",
       "40.763457      3\n",
       "40.762305      3\n",
       "40.748887      3\n",
       "40.760442      3\n",
       "40.729470      3\n",
       "40.750072      3\n",
       "40.759712      3\n",
       "40.762877      3\n",
       "40.755132      3\n",
       "40.764125      3\n",
       "            ... \n",
       "40.761823      1\n",
       "40.757483      1\n",
       "40.643965      1\n",
       "40.751415      1\n",
       "40.752753      1\n",
       "40.734758      1\n",
       "40.802415      1\n",
       "40.764382      1\n",
       "40.729426      1\n",
       "40.766335      1\n",
       "40.771554      1\n",
       "40.742670      1\n",
       "40.738475      1\n",
       "40.751807      1\n",
       "40.753355      1\n",
       "40.756105      1\n",
       "40.746473      1\n",
       "40.805922      1\n",
       "40.692358      1\n",
       "40.851567      1\n",
       "40.758408      1\n",
       "40.717040      1\n",
       "40.756277      1\n",
       "40.768770      1\n",
       "40.720037      1\n",
       "40.734567      1\n",
       "40.737617      1\n",
       "40.761932      1\n",
       "40.680364      1\n",
       "40.752322      1\n",
       "Name: dropoff_latitude, Length: 14263, dtype: int64"
      ]
     },
     "execution_count": 218,
     "metadata": {},
     "output_type": "execute_result"
    }
   ],
   "source": [
    "df[\"dropoff_latitude\"].value_counts()"
   ]
  },
  {
   "cell_type": "code",
   "execution_count": 219,
   "metadata": {},
   "outputs": [
    {
     "data": {
      "text/html": [
       "<div>\n",
       "<style scoped>\n",
       "    .dataframe tbody tr th:only-of-type {\n",
       "        vertical-align: middle;\n",
       "    }\n",
       "\n",
       "    .dataframe tbody tr th {\n",
       "        vertical-align: top;\n",
       "    }\n",
       "\n",
       "    .dataframe thead th {\n",
       "        text-align: right;\n",
       "    }\n",
       "</style>\n",
       "<table border=\"1\" class=\"dataframe\">\n",
       "  <thead>\n",
       "    <tr style=\"text-align: right;\">\n",
       "      <th></th>\n",
       "      <th>0</th>\n",
       "    </tr>\n",
       "  </thead>\n",
       "  <tbody>\n",
       "    <tr>\n",
       "      <th>fare_amount</th>\n",
       "      <td>25</td>\n",
       "    </tr>\n",
       "    <tr>\n",
       "      <th>pickup_datetime</th>\n",
       "      <td>0</td>\n",
       "    </tr>\n",
       "    <tr>\n",
       "      <th>pickup_longitude</th>\n",
       "      <td>0</td>\n",
       "    </tr>\n",
       "    <tr>\n",
       "      <th>pickup_latitude</th>\n",
       "      <td>0</td>\n",
       "    </tr>\n",
       "    <tr>\n",
       "      <th>dropoff_longitude</th>\n",
       "      <td>0</td>\n",
       "    </tr>\n",
       "    <tr>\n",
       "      <th>dropoff_latitude</th>\n",
       "      <td>0</td>\n",
       "    </tr>\n",
       "    <tr>\n",
       "      <th>passenger_count</th>\n",
       "      <td>55</td>\n",
       "    </tr>\n",
       "  </tbody>\n",
       "</table>\n",
       "</div>"
      ],
      "text/plain": [
       "                    0\n",
       "fare_amount        25\n",
       "pickup_datetime     0\n",
       "pickup_longitude    0\n",
       "pickup_latitude     0\n",
       "dropoff_longitude   0\n",
       "dropoff_latitude    0\n",
       "passenger_count    55"
      ]
     },
     "execution_count": 219,
     "metadata": {},
     "output_type": "execute_result"
    }
   ],
   "source": [
    "# checking, is there any missing values in the dataset\n",
    "mis_val=pd.DataFrame(df.isnull().sum())\n",
    "mis_val"
   ]
  },
  {
   "cell_type": "code",
   "execution_count": 220,
   "metadata": {},
   "outputs": [
    {
     "data": {
      "text/html": [
       "<div>\n",
       "<style scoped>\n",
       "    .dataframe tbody tr th:only-of-type {\n",
       "        vertical-align: middle;\n",
       "    }\n",
       "\n",
       "    .dataframe tbody tr th {\n",
       "        vertical-align: top;\n",
       "    }\n",
       "\n",
       "    .dataframe thead th {\n",
       "        text-align: right;\n",
       "    }\n",
       "</style>\n",
       "<table border=\"1\" class=\"dataframe\">\n",
       "  <thead>\n",
       "    <tr style=\"text-align: right;\">\n",
       "      <th></th>\n",
       "      <th>index</th>\n",
       "      <th>0</th>\n",
       "    </tr>\n",
       "  </thead>\n",
       "  <tbody>\n",
       "    <tr>\n",
       "      <th>0</th>\n",
       "      <td>fare_amount</td>\n",
       "      <td>25</td>\n",
       "    </tr>\n",
       "    <tr>\n",
       "      <th>1</th>\n",
       "      <td>pickup_datetime</td>\n",
       "      <td>0</td>\n",
       "    </tr>\n",
       "    <tr>\n",
       "      <th>2</th>\n",
       "      <td>pickup_longitude</td>\n",
       "      <td>0</td>\n",
       "    </tr>\n",
       "    <tr>\n",
       "      <th>3</th>\n",
       "      <td>pickup_latitude</td>\n",
       "      <td>0</td>\n",
       "    </tr>\n",
       "    <tr>\n",
       "      <th>4</th>\n",
       "      <td>dropoff_longitude</td>\n",
       "      <td>0</td>\n",
       "    </tr>\n",
       "    <tr>\n",
       "      <th>5</th>\n",
       "      <td>dropoff_latitude</td>\n",
       "      <td>0</td>\n",
       "    </tr>\n",
       "    <tr>\n",
       "      <th>6</th>\n",
       "      <td>passenger_count</td>\n",
       "      <td>55</td>\n",
       "    </tr>\n",
       "  </tbody>\n",
       "</table>\n",
       "</div>"
      ],
      "text/plain": [
       "               index   0\n",
       "0        fare_amount  25\n",
       "1    pickup_datetime   0\n",
       "2   pickup_longitude   0\n",
       "3    pickup_latitude   0\n",
       "4  dropoff_longitude   0\n",
       "5   dropoff_latitude   0\n",
       "6    passenger_count  55"
      ]
     },
     "execution_count": 220,
     "metadata": {},
     "output_type": "execute_result"
    }
   ],
   "source": [
    "# reset the index \n",
    "mis_val=mis_val.reset_index()\n",
    "mis_val"
   ]
  },
  {
   "cell_type": "code",
   "execution_count": 221,
   "metadata": {},
   "outputs": [
    {
     "data": {
      "text/html": [
       "<div>\n",
       "<style scoped>\n",
       "    .dataframe tbody tr th:only-of-type {\n",
       "        vertical-align: middle;\n",
       "    }\n",
       "\n",
       "    .dataframe tbody tr th {\n",
       "        vertical-align: top;\n",
       "    }\n",
       "\n",
       "    .dataframe thead th {\n",
       "        text-align: right;\n",
       "    }\n",
       "</style>\n",
       "<table border=\"1\" class=\"dataframe\">\n",
       "  <thead>\n",
       "    <tr style=\"text-align: right;\">\n",
       "      <th></th>\n",
       "      <th>variables</th>\n",
       "      <th>missing val %</th>\n",
       "    </tr>\n",
       "  </thead>\n",
       "  <tbody>\n",
       "    <tr>\n",
       "      <th>0</th>\n",
       "      <td>fare_amount</td>\n",
       "      <td>25</td>\n",
       "    </tr>\n",
       "    <tr>\n",
       "      <th>1</th>\n",
       "      <td>pickup_datetime</td>\n",
       "      <td>0</td>\n",
       "    </tr>\n",
       "    <tr>\n",
       "      <th>2</th>\n",
       "      <td>pickup_longitude</td>\n",
       "      <td>0</td>\n",
       "    </tr>\n",
       "    <tr>\n",
       "      <th>3</th>\n",
       "      <td>pickup_latitude</td>\n",
       "      <td>0</td>\n",
       "    </tr>\n",
       "    <tr>\n",
       "      <th>4</th>\n",
       "      <td>dropoff_longitude</td>\n",
       "      <td>0</td>\n",
       "    </tr>\n",
       "    <tr>\n",
       "      <th>5</th>\n",
       "      <td>dropoff_latitude</td>\n",
       "      <td>0</td>\n",
       "    </tr>\n",
       "    <tr>\n",
       "      <th>6</th>\n",
       "      <td>passenger_count</td>\n",
       "      <td>55</td>\n",
       "    </tr>\n",
       "  </tbody>\n",
       "</table>\n",
       "</div>"
      ],
      "text/plain": [
       "           variables  missing val %\n",
       "0        fare_amount             25\n",
       "1    pickup_datetime              0\n",
       "2   pickup_longitude              0\n",
       "3    pickup_latitude              0\n",
       "4  dropoff_longitude              0\n",
       "5   dropoff_latitude              0\n",
       "6    passenger_count             55"
      ]
     },
     "execution_count": 221,
     "metadata": {},
     "output_type": "execute_result"
    }
   ],
   "source": [
    "# rename the variables\n",
    "mis_val= mis_val.rename(columns= {\"index\":\"variables\",0:\"missing val %\"})\n",
    "mis_val"
   ]
  },
  {
   "cell_type": "code",
   "execution_count": 222,
   "metadata": {
    "scrolled": true
   },
   "outputs": [
    {
     "data": {
      "text/html": [
       "<div>\n",
       "<style scoped>\n",
       "    .dataframe tbody tr th:only-of-type {\n",
       "        vertical-align: middle;\n",
       "    }\n",
       "\n",
       "    .dataframe tbody tr th {\n",
       "        vertical-align: top;\n",
       "    }\n",
       "\n",
       "    .dataframe thead th {\n",
       "        text-align: right;\n",
       "    }\n",
       "</style>\n",
       "<table border=\"1\" class=\"dataframe\">\n",
       "  <thead>\n",
       "    <tr style=\"text-align: right;\">\n",
       "      <th></th>\n",
       "      <th>variables</th>\n",
       "      <th>missing val %</th>\n",
       "    </tr>\n",
       "  </thead>\n",
       "  <tbody>\n",
       "    <tr>\n",
       "      <th>0</th>\n",
       "      <td>fare_amount</td>\n",
       "      <td>0.155598</td>\n",
       "    </tr>\n",
       "    <tr>\n",
       "      <th>1</th>\n",
       "      <td>pickup_datetime</td>\n",
       "      <td>0.000000</td>\n",
       "    </tr>\n",
       "    <tr>\n",
       "      <th>2</th>\n",
       "      <td>pickup_longitude</td>\n",
       "      <td>0.000000</td>\n",
       "    </tr>\n",
       "    <tr>\n",
       "      <th>3</th>\n",
       "      <td>pickup_latitude</td>\n",
       "      <td>0.000000</td>\n",
       "    </tr>\n",
       "    <tr>\n",
       "      <th>4</th>\n",
       "      <td>dropoff_longitude</td>\n",
       "      <td>0.000000</td>\n",
       "    </tr>\n",
       "    <tr>\n",
       "      <th>5</th>\n",
       "      <td>dropoff_latitude</td>\n",
       "      <td>0.000000</td>\n",
       "    </tr>\n",
       "    <tr>\n",
       "      <th>6</th>\n",
       "      <td>passenger_count</td>\n",
       "      <td>0.342317</td>\n",
       "    </tr>\n",
       "  </tbody>\n",
       "</table>\n",
       "</div>"
      ],
      "text/plain": [
       "           variables  missing val %\n",
       "0        fare_amount       0.155598\n",
       "1    pickup_datetime       0.000000\n",
       "2   pickup_longitude       0.000000\n",
       "3    pickup_latitude       0.000000\n",
       "4  dropoff_longitude       0.000000\n",
       "5   dropoff_latitude       0.000000\n",
       "6    passenger_count       0.342317"
      ]
     },
     "execution_count": 222,
     "metadata": {},
     "output_type": "execute_result"
    }
   ],
   "source": [
    "# now calulating the % of missing values present in the data\n",
    "mis_val[\"missing val %\"]= (mis_val[\"missing val %\"]/len(df))*100\n",
    "mis_val"
   ]
  },
  {
   "cell_type": "code",
   "execution_count": 223,
   "metadata": {},
   "outputs": [
    {
     "data": {
      "text/plain": [
       "40.759662"
      ]
     },
     "execution_count": 223,
     "metadata": {},
     "output_type": "execute_result"
    }
   ],
   "source": [
    "# checking the value at loc[1000]\n",
    "df[\"pickup_latitude\"].loc[1000]"
   ]
  },
  {
   "cell_type": "code",
   "execution_count": 224,
   "metadata": {},
   "outputs": [
    {
     "name": "stderr",
     "output_type": "stream",
     "text": [
      "C:\\ProgramData\\Anaconda3\\lib\\site-packages\\pandas\\core\\indexing.py:190: SettingWithCopyWarning: \n",
      "A value is trying to be set on a copy of a slice from a DataFrame\n",
      "\n",
      "See the caveats in the documentation: http://pandas.pydata.org/pandas-docs/stable/indexing.html#indexing-view-versus-copy\n",
      "  self._setitem_with_indexer(indexer, value)\n"
     ]
    }
   ],
   "source": [
    "#actual value = 40.759662, at loc[1000]\n",
    "# create missing value at loc[1000]\n",
    "df[\"pickup_latitude\"].loc[1000]= np.nan"
   ]
  },
  {
   "cell_type": "code",
   "execution_count": 225,
   "metadata": {},
   "outputs": [
    {
     "data": {
      "text/plain": [
       "nan"
      ]
     },
     "execution_count": 225,
     "metadata": {},
     "output_type": "execute_result"
    }
   ],
   "source": [
    "# here the value is droped from this location\n",
    "df[\"pickup_latitude\"].loc[1000]"
   ]
  },
  {
   "cell_type": "code",
   "execution_count": 226,
   "metadata": {},
   "outputs": [],
   "source": [
    "# Now, we will try to impute the values by mean and median methods\n",
    "df[\"pickup_latitude\"]=df[\"pickup_latitude\"].fillna(df[\"pickup_latitude\"].mean())"
   ]
  },
  {
   "cell_type": "code",
   "execution_count": 227,
   "metadata": {},
   "outputs": [
    {
     "data": {
      "text/plain": [
       "39.91467290610686"
      ]
     },
     "execution_count": 227,
     "metadata": {},
     "output_type": "execute_result"
    }
   ],
   "source": [
    "# now we can see that at loc[1000] we get mean value of 39.91467290610686\n",
    "df[\"pickup_latitude\"].loc[1000]"
   ]
  },
  {
   "cell_type": "code",
   "execution_count": 228,
   "metadata": {},
   "outputs": [
    {
     "data": {
      "text/plain": [
       "nan"
      ]
     },
     "execution_count": 228,
     "metadata": {},
     "output_type": "execute_result"
    }
   ],
   "source": [
    "# again creating missing value at loc[1000]\n",
    "df[\"pickup_latitude\"].loc[1000]= np.nan\n",
    "df[\"pickup_latitude\"].loc[1000]"
   ]
  },
  {
   "cell_type": "code",
   "execution_count": 229,
   "metadata": {},
   "outputs": [
    {
     "data": {
      "text/plain": [
       "40.752603"
      ]
     },
     "execution_count": 229,
     "metadata": {},
     "output_type": "execute_result"
    }
   ],
   "source": [
    "# this time filling the loc[1000] using medianass\n",
    "df[\"pickup_latitude\"]= df[\"pickup_latitude\"].fillna(df[\"pickup_latitude\"].median())\n",
    "df[\"pickup_latitude\"].loc[1000]         ## here also we get the value of the median = 40.7213"
   ]
  },
  {
   "cell_type": "code",
   "execution_count": 230,
   "metadata": {},
   "outputs": [
    {
     "data": {
      "text/plain": [
       "fare_amount          0\n",
       "pickup_datetime      0\n",
       "pickup_longitude     0\n",
       "pickup_latitude      0\n",
       "dropoff_longitude    0\n",
       "dropoff_latitude     0\n",
       "passenger_count      0\n",
       "dtype: int64"
      ]
     },
     "execution_count": 230,
     "metadata": {},
     "output_type": "execute_result"
    }
   ],
   "source": [
    "# filling the missing values by using mean\n",
    "df= df.fillna(df.median())\n",
    "df.isnull().sum()"
   ]
  },
  {
   "cell_type": "code",
   "execution_count": 231,
   "metadata": {},
   "outputs": [
    {
     "data": {
      "text/plain": [
       "fare_amount          float64\n",
       "pickup_datetime       object\n",
       "pickup_longitude     float64\n",
       "pickup_latitude      float64\n",
       "dropoff_longitude    float64\n",
       "dropoff_latitude     float64\n",
       "passenger_count      float64\n",
       "dtype: object"
      ]
     },
     "execution_count": 231,
     "metadata": {},
     "output_type": "execute_result"
    }
   ],
   "source": [
    "df.dtypes"
   ]
  },
  {
   "cell_type": "code",
   "execution_count": 232,
   "metadata": {},
   "outputs": [
    {
     "data": {
      "text/plain": [
       "40.759662"
      ]
     },
     "execution_count": 232,
     "metadata": {},
     "output_type": "execute_result"
    }
   ],
   "source": [
    "# filling up the original value of pickup latitude at loc[1000]\n",
    "df[\"pickup_latitude\"].loc[1000]= np.nan\n",
    "df[\"pickup_latitude\"].loc[1000]=40.759662\n",
    "df[\"pickup_latitude\"].loc[1000]"
   ]
  },
  {
   "cell_type": "code",
   "execution_count": 233,
   "metadata": {},
   "outputs": [],
   "source": [
    "# convert the datatype of pickup_latitude to float again\n",
    "df[\"pickup_latitude\"]=pd.to_numeric(df[\"pickup_latitude\"],errors=\"coerce\")"
   ]
  },
  {
   "cell_type": "code",
   "execution_count": 234,
   "metadata": {},
   "outputs": [
    {
     "data": {
      "text/plain": [
       "fare_amount          float64\n",
       "pickup_datetime       object\n",
       "pickup_longitude     float64\n",
       "pickup_latitude      float64\n",
       "dropoff_longitude    float64\n",
       "dropoff_latitude     float64\n",
       "passenger_count      float64\n",
       "dtype: object"
      ]
     },
     "execution_count": 234,
     "metadata": {},
     "output_type": "execute_result"
    }
   ],
   "source": [
    "# checking the data type of pick up latitude now\n",
    "df.dtypes"
   ]
  },
  {
   "cell_type": "code",
   "execution_count": 237,
   "metadata": {},
   "outputs": [
    {
     "ename": "AttributeError",
     "evalue": "Can only use .str accessor with string values, which use np.object_ dtype in pandas",
     "output_type": "error",
     "traceback": [
      "\u001b[1;31m---------------------------------------------------------------------------\u001b[0m",
      "\u001b[1;31mAttributeError\u001b[0m                            Traceback (most recent call last)",
      "\u001b[1;32m<ipython-input-237-b7ad9b0a91bf>\u001b[0m in \u001b[0;36m<module>\u001b[1;34m\u001b[0m\n\u001b[0;32m      1\u001b[0m \u001b[1;31m#replacing the UTC from the pickup_datetime variable\u001b[0m\u001b[1;33m\u001b[0m\u001b[1;33m\u001b[0m\u001b[1;33m\u001b[0m\u001b[0m\n\u001b[1;32m----> 2\u001b[1;33m \u001b[0mdf\u001b[0m\u001b[1;33m[\u001b[0m\u001b[1;34m\"pickup_datetime\"\u001b[0m\u001b[1;33m]\u001b[0m\u001b[1;33m=\u001b[0m \u001b[0mdf\u001b[0m\u001b[1;33m.\u001b[0m\u001b[0mpickup_datetime\u001b[0m\u001b[1;33m.\u001b[0m\u001b[0mstr\u001b[0m\u001b[1;33m.\u001b[0m\u001b[0mreplace\u001b[0m\u001b[1;33m(\u001b[0m\u001b[1;34m\"UTC\"\u001b[0m\u001b[1;33m,\u001b[0m\u001b[1;34m\"\"\u001b[0m\u001b[1;33m)\u001b[0m\u001b[1;33m\u001b[0m\u001b[1;33m\u001b[0m\u001b[0m\n\u001b[0m\u001b[0;32m      3\u001b[0m \u001b[0mdf_test\u001b[0m\u001b[1;33m[\u001b[0m\u001b[1;34m\"pickup_datetime\"\u001b[0m\u001b[1;33m]\u001b[0m\u001b[1;33m=\u001b[0m\u001b[0mdf_test\u001b[0m\u001b[1;33m.\u001b[0m\u001b[0mpickup_datetime\u001b[0m\u001b[1;33m.\u001b[0m\u001b[0mstr\u001b[0m\u001b[1;33m.\u001b[0m\u001b[0mreplace\u001b[0m\u001b[1;33m(\u001b[0m\u001b[1;34m\"UTC\"\u001b[0m\u001b[1;33m,\u001b[0m\u001b[1;34m\"\"\u001b[0m\u001b[1;33m)\u001b[0m\u001b[1;33m\u001b[0m\u001b[1;33m\u001b[0m\u001b[0m\n",
      "\u001b[1;32mC:\\ProgramData\\Anaconda3\\lib\\site-packages\\pandas\\core\\generic.py\u001b[0m in \u001b[0;36m__getattr__\u001b[1;34m(self, name)\u001b[0m\n\u001b[0;32m   5061\u001b[0m         if (name in self._internal_names_set or name in self._metadata or\n\u001b[0;32m   5062\u001b[0m                 name in self._accessors):\n\u001b[1;32m-> 5063\u001b[1;33m             \u001b[1;32mreturn\u001b[0m \u001b[0mobject\u001b[0m\u001b[1;33m.\u001b[0m\u001b[0m__getattribute__\u001b[0m\u001b[1;33m(\u001b[0m\u001b[0mself\u001b[0m\u001b[1;33m,\u001b[0m \u001b[0mname\u001b[0m\u001b[1;33m)\u001b[0m\u001b[1;33m\u001b[0m\u001b[1;33m\u001b[0m\u001b[0m\n\u001b[0m\u001b[0;32m   5064\u001b[0m         \u001b[1;32melse\u001b[0m\u001b[1;33m:\u001b[0m\u001b[1;33m\u001b[0m\u001b[1;33m\u001b[0m\u001b[0m\n\u001b[0;32m   5065\u001b[0m             \u001b[1;32mif\u001b[0m \u001b[0mself\u001b[0m\u001b[1;33m.\u001b[0m\u001b[0m_info_axis\u001b[0m\u001b[1;33m.\u001b[0m\u001b[0m_can_hold_identifiers_and_holds_name\u001b[0m\u001b[1;33m(\u001b[0m\u001b[0mname\u001b[0m\u001b[1;33m)\u001b[0m\u001b[1;33m:\u001b[0m\u001b[1;33m\u001b[0m\u001b[1;33m\u001b[0m\u001b[0m\n",
      "\u001b[1;32mC:\\ProgramData\\Anaconda3\\lib\\site-packages\\pandas\\core\\accessor.py\u001b[0m in \u001b[0;36m__get__\u001b[1;34m(self, obj, cls)\u001b[0m\n\u001b[0;32m    169\u001b[0m             \u001b[1;31m# we're accessing the attribute of the class, i.e., Dataset.geo\u001b[0m\u001b[1;33m\u001b[0m\u001b[1;33m\u001b[0m\u001b[1;33m\u001b[0m\u001b[0m\n\u001b[0;32m    170\u001b[0m             \u001b[1;32mreturn\u001b[0m \u001b[0mself\u001b[0m\u001b[1;33m.\u001b[0m\u001b[0m_accessor\u001b[0m\u001b[1;33m\u001b[0m\u001b[1;33m\u001b[0m\u001b[0m\n\u001b[1;32m--> 171\u001b[1;33m         \u001b[0maccessor_obj\u001b[0m \u001b[1;33m=\u001b[0m \u001b[0mself\u001b[0m\u001b[1;33m.\u001b[0m\u001b[0m_accessor\u001b[0m\u001b[1;33m(\u001b[0m\u001b[0mobj\u001b[0m\u001b[1;33m)\u001b[0m\u001b[1;33m\u001b[0m\u001b[1;33m\u001b[0m\u001b[0m\n\u001b[0m\u001b[0;32m    172\u001b[0m         \u001b[1;31m# Replace the property with the accessor object. Inspired by:\u001b[0m\u001b[1;33m\u001b[0m\u001b[1;33m\u001b[0m\u001b[1;33m\u001b[0m\u001b[0m\n\u001b[0;32m    173\u001b[0m         \u001b[1;31m# http://www.pydanny.com/cached-property.html\u001b[0m\u001b[1;33m\u001b[0m\u001b[1;33m\u001b[0m\u001b[1;33m\u001b[0m\u001b[0m\n",
      "\u001b[1;32mC:\\ProgramData\\Anaconda3\\lib\\site-packages\\pandas\\core\\strings.py\u001b[0m in \u001b[0;36m__init__\u001b[1;34m(self, data)\u001b[0m\n\u001b[0;32m   1794\u001b[0m \u001b[1;33m\u001b[0m\u001b[0m\n\u001b[0;32m   1795\u001b[0m     \u001b[1;32mdef\u001b[0m \u001b[0m__init__\u001b[0m\u001b[1;33m(\u001b[0m\u001b[0mself\u001b[0m\u001b[1;33m,\u001b[0m \u001b[0mdata\u001b[0m\u001b[1;33m)\u001b[0m\u001b[1;33m:\u001b[0m\u001b[1;33m\u001b[0m\u001b[1;33m\u001b[0m\u001b[0m\n\u001b[1;32m-> 1796\u001b[1;33m         \u001b[0mself\u001b[0m\u001b[1;33m.\u001b[0m\u001b[0m_validate\u001b[0m\u001b[1;33m(\u001b[0m\u001b[0mdata\u001b[0m\u001b[1;33m)\u001b[0m\u001b[1;33m\u001b[0m\u001b[1;33m\u001b[0m\u001b[0m\n\u001b[0m\u001b[0;32m   1797\u001b[0m         \u001b[0mself\u001b[0m\u001b[1;33m.\u001b[0m\u001b[0m_is_categorical\u001b[0m \u001b[1;33m=\u001b[0m \u001b[0mis_categorical_dtype\u001b[0m\u001b[1;33m(\u001b[0m\u001b[0mdata\u001b[0m\u001b[1;33m)\u001b[0m\u001b[1;33m\u001b[0m\u001b[1;33m\u001b[0m\u001b[0m\n\u001b[0;32m   1798\u001b[0m \u001b[1;33m\u001b[0m\u001b[0m\n",
      "\u001b[1;32mC:\\ProgramData\\Anaconda3\\lib\\site-packages\\pandas\\core\\strings.py\u001b[0m in \u001b[0;36m_validate\u001b[1;34m(data)\u001b[0m\n\u001b[0;32m   1816\u001b[0m             \u001b[1;31m# (instead of test for object dtype), but that isn't practical for\u001b[0m\u001b[1;33m\u001b[0m\u001b[1;33m\u001b[0m\u001b[1;33m\u001b[0m\u001b[0m\n\u001b[0;32m   1817\u001b[0m             \u001b[1;31m# performance reasons until we have a str dtype (GH 9343)\u001b[0m\u001b[1;33m\u001b[0m\u001b[1;33m\u001b[0m\u001b[1;33m\u001b[0m\u001b[0m\n\u001b[1;32m-> 1818\u001b[1;33m             raise AttributeError(\"Can only use .str accessor with string \"\n\u001b[0m\u001b[0;32m   1819\u001b[0m                                  \u001b[1;34m\"values, which use np.object_ dtype in \"\u001b[0m\u001b[1;33m\u001b[0m\u001b[1;33m\u001b[0m\u001b[0m\n\u001b[0;32m   1820\u001b[0m                                  \"pandas\")\n",
      "\u001b[1;31mAttributeError\u001b[0m: Can only use .str accessor with string values, which use np.object_ dtype in pandas"
     ]
    }
   ],
   "source": [
    "#replacing the UTC from the pickup_datetime variable\n",
    "df[\"pickup_datetime\"]= df.pickup_datetime.str.replace(\"UTC\",\"\")\n",
    "df_test[\"pickup_datetime\"]=df_test.pickup_datetime.str.replace(\"UTC\",\"\")"
   ]
  },
  {
   "cell_type": "code",
   "execution_count": 238,
   "metadata": {},
   "outputs": [],
   "source": [
    "# converting the pickup_datetime variable's data-type from object to datetime \n",
    "df[\"pickup_datetime\"]= pd.to_datetime(df['pickup_datetime'],errors=\"coerce\")\n",
    "df_test[\"pickup_datetime\"]=pd.to_datetime(df[\"pickup_datetime\"],errors=\"coerce\")"
   ]
  },
  {
   "cell_type": "code",
   "execution_count": 239,
   "metadata": {},
   "outputs": [
    {
     "data": {
      "text/plain": [
       "fare_amount                 float64\n",
       "pickup_datetime      datetime64[ns]\n",
       "pickup_longitude            float64\n",
       "pickup_latitude             float64\n",
       "dropoff_longitude           float64\n",
       "dropoff_latitude            float64\n",
       "passenger_count             float64\n",
       "dtype: object"
      ]
     },
     "execution_count": 239,
     "metadata": {},
     "output_type": "execute_result"
    }
   ],
   "source": [
    "# lets check the data-type of the whole dataframe\n",
    "df.dtypes"
   ]
  },
  {
   "cell_type": "code",
   "execution_count": 240,
   "metadata": {},
   "outputs": [],
   "source": [
    "#adding few more columns in the dataset \n",
    "df[\"month\"]=df.pickup_datetime.dt.month\n",
    "df[\"day\"]=df.pickup_datetime.dt.day\n",
    "df[\"hours\"]=df.pickup_datetime.dt.hour\n",
    "#extracting some features to test date\n",
    "df_test[\"month\"]=df_test.pickup_datetime.dt.month\n",
    "df_test[\"hours\"]=df_test.pickup_datetime.dt.hour"
   ]
  },
  {
   "cell_type": "code",
   "execution_count": 241,
   "metadata": {},
   "outputs": [
    {
     "data": {
      "text/plain": [
       "(16067, 10)"
      ]
     },
     "execution_count": 241,
     "metadata": {},
     "output_type": "execute_result"
    }
   ],
   "source": [
    "# lets again take a look of no.of rows and columns\n",
    "df.shape"
   ]
  },
  {
   "cell_type": "code",
   "execution_count": 242,
   "metadata": {},
   "outputs": [
    {
     "data": {
      "text/html": [
       "<div>\n",
       "<style scoped>\n",
       "    .dataframe tbody tr th:only-of-type {\n",
       "        vertical-align: middle;\n",
       "    }\n",
       "\n",
       "    .dataframe tbody tr th {\n",
       "        vertical-align: top;\n",
       "    }\n",
       "\n",
       "    .dataframe thead th {\n",
       "        text-align: right;\n",
       "    }\n",
       "</style>\n",
       "<table border=\"1\" class=\"dataframe\">\n",
       "  <thead>\n",
       "    <tr style=\"text-align: right;\">\n",
       "      <th></th>\n",
       "      <th>fare_amount</th>\n",
       "      <th>pickup_datetime</th>\n",
       "      <th>pickup_longitude</th>\n",
       "      <th>pickup_latitude</th>\n",
       "      <th>dropoff_longitude</th>\n",
       "      <th>dropoff_latitude</th>\n",
       "      <th>passenger_count</th>\n",
       "      <th>month</th>\n",
       "      <th>day</th>\n",
       "      <th>hours</th>\n",
       "    </tr>\n",
       "  </thead>\n",
       "  <tbody>\n",
       "    <tr>\n",
       "      <th>0</th>\n",
       "      <td>4.5</td>\n",
       "      <td>2009-06-15 17:26:21</td>\n",
       "      <td>-73.844311</td>\n",
       "      <td>40.721319</td>\n",
       "      <td>-73.841610</td>\n",
       "      <td>40.712278</td>\n",
       "      <td>1.0</td>\n",
       "      <td>6.0</td>\n",
       "      <td>15.0</td>\n",
       "      <td>17.0</td>\n",
       "    </tr>\n",
       "    <tr>\n",
       "      <th>1</th>\n",
       "      <td>16.9</td>\n",
       "      <td>2010-01-05 16:52:16</td>\n",
       "      <td>-74.016048</td>\n",
       "      <td>40.711303</td>\n",
       "      <td>-73.979268</td>\n",
       "      <td>40.782004</td>\n",
       "      <td>1.0</td>\n",
       "      <td>1.0</td>\n",
       "      <td>5.0</td>\n",
       "      <td>16.0</td>\n",
       "    </tr>\n",
       "    <tr>\n",
       "      <th>2</th>\n",
       "      <td>5.7</td>\n",
       "      <td>2011-08-18 00:35:00</td>\n",
       "      <td>-73.982738</td>\n",
       "      <td>40.761270</td>\n",
       "      <td>-73.991242</td>\n",
       "      <td>40.750562</td>\n",
       "      <td>2.0</td>\n",
       "      <td>8.0</td>\n",
       "      <td>18.0</td>\n",
       "      <td>0.0</td>\n",
       "    </tr>\n",
       "    <tr>\n",
       "      <th>3</th>\n",
       "      <td>7.7</td>\n",
       "      <td>2012-04-21 04:30:42</td>\n",
       "      <td>-73.987130</td>\n",
       "      <td>40.733143</td>\n",
       "      <td>-73.991567</td>\n",
       "      <td>40.758092</td>\n",
       "      <td>1.0</td>\n",
       "      <td>4.0</td>\n",
       "      <td>21.0</td>\n",
       "      <td>4.0</td>\n",
       "    </tr>\n",
       "    <tr>\n",
       "      <th>4</th>\n",
       "      <td>5.3</td>\n",
       "      <td>2010-03-09 07:51:00</td>\n",
       "      <td>-73.968095</td>\n",
       "      <td>40.768008</td>\n",
       "      <td>-73.956655</td>\n",
       "      <td>40.783762</td>\n",
       "      <td>1.0</td>\n",
       "      <td>3.0</td>\n",
       "      <td>9.0</td>\n",
       "      <td>7.0</td>\n",
       "    </tr>\n",
       "  </tbody>\n",
       "</table>\n",
       "</div>"
      ],
      "text/plain": [
       "   fare_amount     pickup_datetime  pickup_longitude  pickup_latitude  \\\n",
       "0          4.5 2009-06-15 17:26:21        -73.844311        40.721319   \n",
       "1         16.9 2010-01-05 16:52:16        -74.016048        40.711303   \n",
       "2          5.7 2011-08-18 00:35:00        -73.982738        40.761270   \n",
       "3          7.7 2012-04-21 04:30:42        -73.987130        40.733143   \n",
       "4          5.3 2010-03-09 07:51:00        -73.968095        40.768008   \n",
       "\n",
       "   dropoff_longitude  dropoff_latitude  passenger_count  month   day  hours  \n",
       "0         -73.841610         40.712278              1.0    6.0  15.0   17.0  \n",
       "1         -73.979268         40.782004              1.0    1.0   5.0   16.0  \n",
       "2         -73.991242         40.750562              2.0    8.0  18.0    0.0  \n",
       "3         -73.991567         40.758092              1.0    4.0  21.0    4.0  \n",
       "4         -73.956655         40.783762              1.0    3.0   9.0    7.0  "
      ]
     },
     "execution_count": 242,
     "metadata": {},
     "output_type": "execute_result"
    }
   ],
   "source": [
    "# take a look of 1st few rows of the dataset \n",
    "df.head()"
   ]
  },
  {
   "cell_type": "code",
   "execution_count": 243,
   "metadata": {},
   "outputs": [],
   "source": [
    "# dropping the \"pickup_datetime\"\n",
    "df=df.drop(columns=\"pickup_datetime\")\n",
    "# dropping the \"pickup_datetime\" from test data also\n",
    "df_test=df_test.drop(columns=\"pickup_datetime\")"
   ]
  },
  {
   "cell_type": "code",
   "execution_count": 244,
   "metadata": {},
   "outputs": [
    {
     "data": {
      "text/html": [
       "<div>\n",
       "<style scoped>\n",
       "    .dataframe tbody tr th:only-of-type {\n",
       "        vertical-align: middle;\n",
       "    }\n",
       "\n",
       "    .dataframe tbody tr th {\n",
       "        vertical-align: top;\n",
       "    }\n",
       "\n",
       "    .dataframe thead th {\n",
       "        text-align: right;\n",
       "    }\n",
       "</style>\n",
       "<table border=\"1\" class=\"dataframe\">\n",
       "  <thead>\n",
       "    <tr style=\"text-align: right;\">\n",
       "      <th></th>\n",
       "      <th>pickup_longitude</th>\n",
       "      <th>pickup_latitude</th>\n",
       "      <th>dropoff_longitude</th>\n",
       "      <th>dropoff_latitude</th>\n",
       "      <th>passenger_count</th>\n",
       "      <th>month</th>\n",
       "      <th>hours</th>\n",
       "    </tr>\n",
       "  </thead>\n",
       "  <tbody>\n",
       "    <tr>\n",
       "      <th>0</th>\n",
       "      <td>-73.973320</td>\n",
       "      <td>40.763805</td>\n",
       "      <td>-73.981430</td>\n",
       "      <td>40.743835</td>\n",
       "      <td>1</td>\n",
       "      <td>6.0</td>\n",
       "      <td>17.0</td>\n",
       "    </tr>\n",
       "    <tr>\n",
       "      <th>1</th>\n",
       "      <td>-73.986862</td>\n",
       "      <td>40.719383</td>\n",
       "      <td>-73.998886</td>\n",
       "      <td>40.739201</td>\n",
       "      <td>1</td>\n",
       "      <td>1.0</td>\n",
       "      <td>16.0</td>\n",
       "    </tr>\n",
       "    <tr>\n",
       "      <th>2</th>\n",
       "      <td>-73.982524</td>\n",
       "      <td>40.751260</td>\n",
       "      <td>-73.979654</td>\n",
       "      <td>40.746139</td>\n",
       "      <td>1</td>\n",
       "      <td>8.0</td>\n",
       "      <td>0.0</td>\n",
       "    </tr>\n",
       "    <tr>\n",
       "      <th>3</th>\n",
       "      <td>-73.981160</td>\n",
       "      <td>40.767807</td>\n",
       "      <td>-73.990448</td>\n",
       "      <td>40.751635</td>\n",
       "      <td>1</td>\n",
       "      <td>4.0</td>\n",
       "      <td>4.0</td>\n",
       "    </tr>\n",
       "    <tr>\n",
       "      <th>4</th>\n",
       "      <td>-73.966046</td>\n",
       "      <td>40.789775</td>\n",
       "      <td>-73.988565</td>\n",
       "      <td>40.744427</td>\n",
       "      <td>1</td>\n",
       "      <td>3.0</td>\n",
       "      <td>7.0</td>\n",
       "    </tr>\n",
       "  </tbody>\n",
       "</table>\n",
       "</div>"
      ],
      "text/plain": [
       "   pickup_longitude  pickup_latitude  dropoff_longitude  dropoff_latitude  \\\n",
       "0        -73.973320        40.763805         -73.981430         40.743835   \n",
       "1        -73.986862        40.719383         -73.998886         40.739201   \n",
       "2        -73.982524        40.751260         -73.979654         40.746139   \n",
       "3        -73.981160        40.767807         -73.990448         40.751635   \n",
       "4        -73.966046        40.789775         -73.988565         40.744427   \n",
       "\n",
       "   passenger_count  month  hours  \n",
       "0                1    6.0   17.0  \n",
       "1                1    1.0   16.0  \n",
       "2                1    8.0    0.0  \n",
       "3                1    4.0    4.0  \n",
       "4                1    3.0    7.0  "
      ]
     },
     "execution_count": 244,
     "metadata": {},
     "output_type": "execute_result"
    }
   ],
   "source": [
    "df_test.head()"
   ]
  },
  {
   "cell_type": "code",
   "execution_count": null,
   "metadata": {},
   "outputs": [],
   "source": []
  },
  {
   "cell_type": "code",
   "execution_count": 245,
   "metadata": {},
   "outputs": [],
   "source": [
    "### OUTLIERS DETECTION ###\n",
    "# checking the outliers\n",
    "#firstly, coping the data\n",
    "data=df.copy()"
   ]
  },
  {
   "cell_type": "code",
   "execution_count": 246,
   "metadata": {},
   "outputs": [
    {
     "data": {
      "text/html": [
       "<div>\n",
       "<style scoped>\n",
       "    .dataframe tbody tr th:only-of-type {\n",
       "        vertical-align: middle;\n",
       "    }\n",
       "\n",
       "    .dataframe tbody tr th {\n",
       "        vertical-align: top;\n",
       "    }\n",
       "\n",
       "    .dataframe thead th {\n",
       "        text-align: right;\n",
       "    }\n",
       "</style>\n",
       "<table border=\"1\" class=\"dataframe\">\n",
       "  <thead>\n",
       "    <tr style=\"text-align: right;\">\n",
       "      <th></th>\n",
       "      <th>fare_amount</th>\n",
       "      <th>pickup_longitude</th>\n",
       "      <th>pickup_latitude</th>\n",
       "      <th>dropoff_longitude</th>\n",
       "      <th>dropoff_latitude</th>\n",
       "      <th>passenger_count</th>\n",
       "      <th>month</th>\n",
       "      <th>day</th>\n",
       "      <th>hours</th>\n",
       "    </tr>\n",
       "  </thead>\n",
       "  <tbody>\n",
       "    <tr>\n",
       "      <th>0</th>\n",
       "      <td>4.5</td>\n",
       "      <td>-73.844311</td>\n",
       "      <td>40.721319</td>\n",
       "      <td>-73.841610</td>\n",
       "      <td>40.712278</td>\n",
       "      <td>1.0</td>\n",
       "      <td>6.0</td>\n",
       "      <td>15.0</td>\n",
       "      <td>17.0</td>\n",
       "    </tr>\n",
       "    <tr>\n",
       "      <th>1</th>\n",
       "      <td>16.9</td>\n",
       "      <td>-74.016048</td>\n",
       "      <td>40.711303</td>\n",
       "      <td>-73.979268</td>\n",
       "      <td>40.782004</td>\n",
       "      <td>1.0</td>\n",
       "      <td>1.0</td>\n",
       "      <td>5.0</td>\n",
       "      <td>16.0</td>\n",
       "    </tr>\n",
       "    <tr>\n",
       "      <th>2</th>\n",
       "      <td>5.7</td>\n",
       "      <td>-73.982738</td>\n",
       "      <td>40.761270</td>\n",
       "      <td>-73.991242</td>\n",
       "      <td>40.750562</td>\n",
       "      <td>2.0</td>\n",
       "      <td>8.0</td>\n",
       "      <td>18.0</td>\n",
       "      <td>0.0</td>\n",
       "    </tr>\n",
       "    <tr>\n",
       "      <th>3</th>\n",
       "      <td>7.7</td>\n",
       "      <td>-73.987130</td>\n",
       "      <td>40.733143</td>\n",
       "      <td>-73.991567</td>\n",
       "      <td>40.758092</td>\n",
       "      <td>1.0</td>\n",
       "      <td>4.0</td>\n",
       "      <td>21.0</td>\n",
       "      <td>4.0</td>\n",
       "    </tr>\n",
       "    <tr>\n",
       "      <th>4</th>\n",
       "      <td>5.3</td>\n",
       "      <td>-73.968095</td>\n",
       "      <td>40.768008</td>\n",
       "      <td>-73.956655</td>\n",
       "      <td>40.783762</td>\n",
       "      <td>1.0</td>\n",
       "      <td>3.0</td>\n",
       "      <td>9.0</td>\n",
       "      <td>7.0</td>\n",
       "    </tr>\n",
       "  </tbody>\n",
       "</table>\n",
       "</div>"
      ],
      "text/plain": [
       "   fare_amount  pickup_longitude  pickup_latitude  dropoff_longitude  \\\n",
       "0          4.5        -73.844311        40.721319         -73.841610   \n",
       "1         16.9        -74.016048        40.711303         -73.979268   \n",
       "2          5.7        -73.982738        40.761270         -73.991242   \n",
       "3          7.7        -73.987130        40.733143         -73.991567   \n",
       "4          5.3        -73.968095        40.768008         -73.956655   \n",
       "\n",
       "   dropoff_latitude  passenger_count  month   day  hours  \n",
       "0         40.712278              1.0    6.0  15.0   17.0  \n",
       "1         40.782004              1.0    1.0   5.0   16.0  \n",
       "2         40.750562              2.0    8.0  18.0    0.0  \n",
       "3         40.758092              1.0    4.0  21.0    4.0  \n",
       "4         40.783762              1.0    3.0   9.0    7.0  "
      ]
     },
     "execution_count": 246,
     "metadata": {},
     "output_type": "execute_result"
    }
   ],
   "source": [
    "# now our dataset without \"pickup_datetime\" variable\n",
    "df.head()"
   ]
  },
  {
   "cell_type": "code",
   "execution_count": 247,
   "metadata": {},
   "outputs": [
    {
     "name": "stderr",
     "output_type": "stream",
     "text": [
      "C:\\ProgramData\\Anaconda3\\lib\\site-packages\\ipykernel_launcher.py:1: DeprecationWarning: \n",
      ".ix is deprecated. Please use\n",
      ".loc for label based indexing or\n",
      ".iloc for positional indexing\n",
      "\n",
      "See the documentation here:\n",
      "http://pandas.pydata.org/pandas-docs/stable/indexing.html#ix-indexer-is-deprecated\n",
      "  \"\"\"Entry point for launching an IPython kernel.\n"
     ]
    },
    {
     "data": {
      "text/plain": [
       "<matplotlib.axes._subplots.AxesSubplot at 0x11b3f8d0>"
      ]
     },
     "execution_count": 247,
     "metadata": {},
     "output_type": "execute_result"
    },
    {
     "data": {
      "image/png": "[encoded data removed]",
      "text/plain": [
       "<Figure size 432x288 with 1 Axes>"
      ]
     },
     "metadata": {
      "needs_background": "light"
     },
     "output_type": "display_data"
    }
   ],
   "source": [
    "sns.boxplot(data=df.ix[:,:2])"
   ]
  },
  {
   "cell_type": "code",
   "execution_count": 248,
   "metadata": {},
   "outputs": [
    {
     "name": "stderr",
     "output_type": "stream",
     "text": [
      "C:\\ProgramData\\Anaconda3\\lib\\site-packages\\ipykernel_launcher.py:1: DeprecationWarning: \n",
      ".ix is deprecated. Please use\n",
      ".loc for label based indexing or\n",
      ".iloc for positional indexing\n",
      "\n",
      "See the documentation here:\n",
      "http://pandas.pydata.org/pandas-docs/stable/indexing.html#ix-indexer-is-deprecated\n",
      "  \"\"\"Entry point for launching an IPython kernel.\n"
     ]
    },
    {
     "data": {
      "text/plain": [
       "<matplotlib.axes._subplots.AxesSubplot at 0xf01c8d0>"
      ]
     },
     "execution_count": 248,
     "metadata": {},
     "output_type": "execute_result"
    },
    {
     "data": {
      "image/png": "[encoded data removed]",
      "text/plain": [
       "<Figure size 432x288 with 1 Axes>"
      ]
     },
     "metadata": {
      "needs_background": "light"
     },
     "output_type": "display_data"
    }
   ],
   "source": [
    "sns.boxplot(data=df.ix[:,2:5],color=\"green\")"
   ]
  },
  {
   "cell_type": "code",
   "execution_count": 249,
   "metadata": {},
   "outputs": [
    {
     "name": "stderr",
     "output_type": "stream",
     "text": [
      "C:\\ProgramData\\Anaconda3\\lib\\site-packages\\ipykernel_launcher.py:1: DeprecationWarning: \n",
      ".ix is deprecated. Please use\n",
      ".loc for label based indexing or\n",
      ".iloc for positional indexing\n",
      "\n",
      "See the documentation here:\n",
      "http://pandas.pydata.org/pandas-docs/stable/indexing.html#ix-indexer-is-deprecated\n",
      "  \"\"\"Entry point for launching an IPython kernel.\n"
     ]
    },
    {
     "data": {
      "text/plain": [
       "<matplotlib.axes._subplots.AxesSubplot at 0xf066470>"
      ]
     },
     "execution_count": 249,
     "metadata": {},
     "output_type": "execute_result"
    },
    {
     "data": {
      "image/png": "[encoded data removed]",
      "text/plain": [
       "<Figure size 432x288 with 1 Axes>"
      ]
     },
     "metadata": {
      "needs_background": "light"
     },
     "output_type": "display_data"
    }
   ],
   "source": [
    "sns.boxplot(data=df.ix[:,5:],color=\"orange\")"
   ]
  },
  {
   "cell_type": "code",
   "execution_count": 250,
   "metadata": {},
   "outputs": [
    {
     "name": "stdout",
     "output_type": "stream",
     "text": [
      "22.25\n",
      "-3.75\n",
      "go\n"
     ]
    }
   ],
   "source": [
    "q75,q25=np.percentile(df.fare_amount,[75,25])\n",
    "iqr = q75-q25\n",
    "min=q25-(iqr*1.5)\n",
    "max=q75+(iqr*1.5)\n",
    "print(max)\n",
    "print(min)\n",
    "df.loc[df[\"fare_amount\"]>50,:\"fare_amount\"]=np.nan\n",
    "df.loc[df[\"fare_amount\"]<0,:\"fare_amount\"]=np.nan\n",
    "print(\"go\")"
   ]
  },
  {
   "cell_type": "code",
   "execution_count": 251,
   "metadata": {},
   "outputs": [
    {
     "name": "stdout",
     "output_type": "stream",
     "text": [
      "40.816060949999994\n",
      "40.686247429999995\n",
      "go\n"
     ]
    }
   ],
   "source": [
    "q75,q25=np.percentile(df.pickup_latitude,[75,25])\n",
    "iqr = q75-q25\n",
    "min=q25-(iqr*1.5)\n",
    "max=q75+(iqr*1.5)\n",
    "print(max)\n",
    "print(min)\n",
    "df.loc[df[\"pickup_latitude\"]>max,:\"pickup_latitude\"]=np.nan\n",
    "df.loc[df[\"pickup_latitude\"]<min,:\"pickup_latitude\"]=np.nan\n",
    "print(\"go\")\n"
   ]
  },
  {
   "cell_type": "code",
   "execution_count": 252,
   "metadata": {},
   "outputs": [
    {
     "name": "stdout",
     "output_type": "stream",
     "text": [
      "-73.92233325000002\n",
      "-74.03249124999998\n",
      "go\n"
     ]
    }
   ],
   "source": [
    "q75,q25=np.percentile(df.dropoff_longitude,[75,25])\n",
    "iqr = q75-q25\n",
    "min=q25-(iqr*1.5)\n",
    "max=q75+(iqr*1.5)\n",
    "print(max)\n",
    "print(min)\n",
    "df.loc[df[\"dropoff_longitude\"]>max,:\"dropoff_longitude\"]=np.nan\n",
    "df.loc[df[\"dropoff_longitude\"]<min,:\"dropoff_longitude\"]=np.nan\n",
    "print(\"go\")"
   ]
  },
  {
   "cell_type": "code",
   "execution_count": 253,
   "metadata": {},
   "outputs": [
    {
     "name": "stdout",
     "output_type": "stream",
     "text": [
      "40.81805724999999\n",
      "40.684607250000006\n",
      "go\n"
     ]
    }
   ],
   "source": [
    "q75,q25=np.percentile(df.dropoff_latitude,[75,25])\n",
    "iqr = q75-q25\n",
    "min=q25-(iqr*1.5)\n",
    "max=q75+(iqr*1.5)\n",
    "print(max)\n",
    "print(min)\n",
    "df.loc[df[\"dropoff_latitude\"]>max,:\"dropoff_latitude\"]=np.nan\n",
    "df.loc[df[\"dropoff_latitude\"]<min,:\"dropoff_latitude\"]=np.nan\n",
    "print(\"go\")"
   ]
  },
  {
   "cell_type": "code",
   "execution_count": 254,
   "metadata": {},
   "outputs": [
    {
     "name": "stdout",
     "output_type": "stream",
     "text": [
      "3.5\n",
      "-0.5\n",
      "go\n"
     ]
    }
   ],
   "source": [
    "q75,q25=np.percentile(df.passenger_count,[75,25])\n",
    "iqr = q75-q25\n",
    "min=q25-(iqr*1.5)\n",
    "max=q75+(iqr*1.5)\n",
    "print(max)\n",
    "print(min)\n",
    "df.loc[df[\"passenger_count\"]>6,:\"passenger_count\"]=np.nan\n",
    "df.loc[df[\"passenger_count\"]<0,:\"passenger_count\"]=np.nan\n",
    "print(\"go\")"
   ]
  },
  {
   "cell_type": "code",
   "execution_count": 255,
   "metadata": {},
   "outputs": [
    {
     "data": {
      "text/html": [
       "<div>\n",
       "<style scoped>\n",
       "    .dataframe tbody tr th:only-of-type {\n",
       "        vertical-align: middle;\n",
       "    }\n",
       "\n",
       "    .dataframe tbody tr th {\n",
       "        vertical-align: top;\n",
       "    }\n",
       "\n",
       "    .dataframe thead th {\n",
       "        text-align: right;\n",
       "    }\n",
       "</style>\n",
       "<table border=\"1\" class=\"dataframe\">\n",
       "  <thead>\n",
       "    <tr style=\"text-align: right;\">\n",
       "      <th></th>\n",
       "      <th>0</th>\n",
       "    </tr>\n",
       "  </thead>\n",
       "  <tbody>\n",
       "    <tr>\n",
       "      <th>fare_amount</th>\n",
       "      <td>1937</td>\n",
       "    </tr>\n",
       "    <tr>\n",
       "      <th>pickup_longitude</th>\n",
       "      <td>1909</td>\n",
       "    </tr>\n",
       "    <tr>\n",
       "      <th>pickup_latitude</th>\n",
       "      <td>1909</td>\n",
       "    </tr>\n",
       "    <tr>\n",
       "      <th>dropoff_longitude</th>\n",
       "      <td>1627</td>\n",
       "    </tr>\n",
       "    <tr>\n",
       "      <th>dropoff_latitude</th>\n",
       "      <td>1025</td>\n",
       "    </tr>\n",
       "    <tr>\n",
       "      <th>passenger_count</th>\n",
       "      <td>20</td>\n",
       "    </tr>\n",
       "    <tr>\n",
       "      <th>month</th>\n",
       "      <td>1</td>\n",
       "    </tr>\n",
       "    <tr>\n",
       "      <th>day</th>\n",
       "      <td>1</td>\n",
       "    </tr>\n",
       "    <tr>\n",
       "      <th>hours</th>\n",
       "      <td>1</td>\n",
       "    </tr>\n",
       "  </tbody>\n",
       "</table>\n",
       "</div>"
      ],
      "text/plain": [
       "                      0\n",
       "fare_amount        1937\n",
       "pickup_longitude   1909\n",
       "pickup_latitude    1909\n",
       "dropoff_longitude  1627\n",
       "dropoff_latitude   1025\n",
       "passenger_count      20\n",
       "month                 1\n",
       "day                   1\n",
       "hours                 1"
      ]
     },
     "execution_count": 255,
     "metadata": {},
     "output_type": "execute_result"
    }
   ],
   "source": [
    "# checking the number of missing values which are created by outliers removal\n",
    "mis_val=pd.DataFrame(df.isnull().sum())\n",
    "mis_val\n"
   ]
  },
  {
   "cell_type": "code",
   "execution_count": 256,
   "metadata": {},
   "outputs": [
    {
     "data": {
      "text/plain": [
       "fare_amount          0\n",
       "pickup_longitude     0\n",
       "pickup_latitude      0\n",
       "dropoff_longitude    0\n",
       "dropoff_latitude     0\n",
       "passenger_count      0\n",
       "month                0\n",
       "day                  0\n",
       "hours                0\n",
       "dtype: int64"
      ]
     },
     "execution_count": 256,
     "metadata": {},
     "output_type": "execute_result"
    }
   ],
   "source": [
    "# filling up the missing values by using median method\n",
    "df= df.fillna(df.median())\n",
    "df.isnull().sum()"
   ]
  },
  {
   "cell_type": "code",
   "execution_count": 257,
   "metadata": {},
   "outputs": [],
   "source": [
    "# FEATURE ENGINEERING "
   ]
  },
  {
   "cell_type": "code",
   "execution_count": 258,
   "metadata": {},
   "outputs": [],
   "source": [
    "# Adding the distance variable in the dataset\n",
    "df[\"Distance\"]=np.abs(df[\"pickup_latitude\"]-df[\"dropoff_latitude\"])+np.abs(df[\"pickup_longitude\"]-df[\"dropoff_longitude\"])\n",
    "df_test[\"Distance\"]=np.abs(df_test[\"pickup_latitude\"]-df_test[\"dropoff_latitude\"])+np.abs(df_test[\"pickup_longitude\"]-df_test[\"dropoff_longitude\"])"
   ]
  },
  {
   "cell_type": "code",
   "execution_count": 259,
   "metadata": {},
   "outputs": [],
   "source": [
    "#saving the numeric variables name in a variable\n",
    "cl_names=[\"fare_amount\",\"pickup_longitude\",\"pickup_latitude\",\"dropoff_longitude\",\"dropoff_latitude\",\n",
    "          \"passenger_count\",\"month\",\"day\",\"hours\",\"Distance\"]"
   ]
  },
  {
   "cell_type": "code",
   "execution_count": 260,
   "metadata": {},
   "outputs": [
    {
     "data": {
      "text/html": [
       "<div>\n",
       "<style scoped>\n",
       "    .dataframe tbody tr th:only-of-type {\n",
       "        vertical-align: middle;\n",
       "    }\n",
       "\n",
       "    .dataframe tbody tr th {\n",
       "        vertical-align: top;\n",
       "    }\n",
       "\n",
       "    .dataframe thead th {\n",
       "        text-align: right;\n",
       "    }\n",
       "</style>\n",
       "<table border=\"1\" class=\"dataframe\">\n",
       "  <thead>\n",
       "    <tr style=\"text-align: right;\">\n",
       "      <th></th>\n",
       "      <th>fare_amount</th>\n",
       "      <th>pickup_longitude</th>\n",
       "      <th>pickup_latitude</th>\n",
       "      <th>dropoff_longitude</th>\n",
       "      <th>dropoff_latitude</th>\n",
       "      <th>passenger_count</th>\n",
       "      <th>month</th>\n",
       "      <th>day</th>\n",
       "      <th>hours</th>\n",
       "      <th>Distance</th>\n",
       "    </tr>\n",
       "  </thead>\n",
       "  <tbody>\n",
       "    <tr>\n",
       "      <th>0</th>\n",
       "      <td>8.0</td>\n",
       "      <td>-73.982377</td>\n",
       "      <td>40.753982</td>\n",
       "      <td>-73.981877</td>\n",
       "      <td>40.712278</td>\n",
       "      <td>1.0</td>\n",
       "      <td>6.0</td>\n",
       "      <td>15.0</td>\n",
       "      <td>17.0</td>\n",
       "      <td>0.042204</td>\n",
       "    </tr>\n",
       "    <tr>\n",
       "      <th>1</th>\n",
       "      <td>16.9</td>\n",
       "      <td>-74.016048</td>\n",
       "      <td>40.711303</td>\n",
       "      <td>-73.979268</td>\n",
       "      <td>40.782004</td>\n",
       "      <td>1.0</td>\n",
       "      <td>1.0</td>\n",
       "      <td>5.0</td>\n",
       "      <td>16.0</td>\n",
       "      <td>0.107481</td>\n",
       "    </tr>\n",
       "    <tr>\n",
       "      <th>2</th>\n",
       "      <td>5.7</td>\n",
       "      <td>-73.982738</td>\n",
       "      <td>40.761270</td>\n",
       "      <td>-73.991242</td>\n",
       "      <td>40.750562</td>\n",
       "      <td>2.0</td>\n",
       "      <td>8.0</td>\n",
       "      <td>18.0</td>\n",
       "      <td>0.0</td>\n",
       "      <td>0.019212</td>\n",
       "    </tr>\n",
       "    <tr>\n",
       "      <th>3</th>\n",
       "      <td>7.7</td>\n",
       "      <td>-73.987130</td>\n",
       "      <td>40.733143</td>\n",
       "      <td>-73.991567</td>\n",
       "      <td>40.758092</td>\n",
       "      <td>1.0</td>\n",
       "      <td>4.0</td>\n",
       "      <td>21.0</td>\n",
       "      <td>4.0</td>\n",
       "      <td>0.029386</td>\n",
       "    </tr>\n",
       "    <tr>\n",
       "      <th>4</th>\n",
       "      <td>5.3</td>\n",
       "      <td>-73.968095</td>\n",
       "      <td>40.768008</td>\n",
       "      <td>-73.956655</td>\n",
       "      <td>40.783762</td>\n",
       "      <td>1.0</td>\n",
       "      <td>3.0</td>\n",
       "      <td>9.0</td>\n",
       "      <td>7.0</td>\n",
       "      <td>0.027194</td>\n",
       "    </tr>\n",
       "  </tbody>\n",
       "</table>\n",
       "</div>"
      ],
      "text/plain": [
       "   fare_amount  pickup_longitude  pickup_latitude  dropoff_longitude  \\\n",
       "0          8.0        -73.982377        40.753982         -73.981877   \n",
       "1         16.9        -74.016048        40.711303         -73.979268   \n",
       "2          5.7        -73.982738        40.761270         -73.991242   \n",
       "3          7.7        -73.987130        40.733143         -73.991567   \n",
       "4          5.3        -73.968095        40.768008         -73.956655   \n",
       "\n",
       "   dropoff_latitude  passenger_count  month   day  hours  Distance  \n",
       "0         40.712278              1.0    6.0  15.0   17.0  0.042204  \n",
       "1         40.782004              1.0    1.0   5.0   16.0  0.107481  \n",
       "2         40.750562              2.0    8.0  18.0    0.0  0.019212  \n",
       "3         40.758092              1.0    4.0  21.0    4.0  0.029386  \n",
       "4         40.783762              1.0    3.0   9.0    7.0  0.027194  "
      ]
     },
     "execution_count": 260,
     "metadata": {},
     "output_type": "execute_result"
    }
   ],
   "source": [
    "df.head()"
   ]
  },
  {
   "cell_type": "code",
   "execution_count": null,
   "metadata": {},
   "outputs": [],
   "source": [
    "### Feature slection and feature scaling"
   ]
  },
  {
   "cell_type": "code",
   "execution_count": 261,
   "metadata": {},
   "outputs": [
    {
     "data": {
      "text/plain": [
       "array([[<matplotlib.axes._subplots.AxesSubplot object at 0x0000000011A95630>,\n",
       "        <matplotlib.axes._subplots.AxesSubplot object at 0x0000000011AC6DA0>,\n",
       "        <matplotlib.axes._subplots.AxesSubplot object at 0x0000000011AFC208>],\n",
       "       [<matplotlib.axes._subplots.AxesSubplot object at 0x0000000012EEA7F0>,\n",
       "        <matplotlib.axes._subplots.AxesSubplot object at 0x0000000012F1ADA0>,\n",
       "        <matplotlib.axes._subplots.AxesSubplot object at 0x0000000012F58390>],\n",
       "       [<matplotlib.axes._subplots.AxesSubplot object at 0x0000000012F85940>,\n",
       "        <matplotlib.axes._subplots.AxesSubplot object at 0x0000000012FBBF28>,\n",
       "        <matplotlib.axes._subplots.AxesSubplot object at 0x0000000012FBBF60>],\n",
       "       [<matplotlib.axes._subplots.AxesSubplot object at 0x0000000013189A90>,\n",
       "        <matplotlib.axes._subplots.AxesSubplot object at 0x00000000131C8080>,\n",
       "        <matplotlib.axes._subplots.AxesSubplot object at 0x00000000131F65F8>]],\n",
       "      dtype=object)"
      ]
     },
     "execution_count": 261,
     "metadata": {},
     "output_type": "execute_result"
    },
    {
     "data": {
      "image/png": "[encoded data removed]",
      "text/plain": [
       "<Figure size 792x792 with 12 Axes>"
      ]
     },
     "metadata": {
      "needs_background": "light"
     },
     "output_type": "display_data"
    }
   ],
   "source": [
    "#lets see the histogram of all the features\n",
    "df[df.dtypes[(df.dtypes==\"float64\")|(df.dtypes==\"int64\")].index.values].hist(figsize=[11,11])"
   ]
  },
  {
   "cell_type": "code",
   "execution_count": 262,
   "metadata": {},
   "outputs": [
    {
     "data": {
      "text/plain": [
       "<matplotlib.axes._subplots.AxesSubplot at 0x12e8e978>"
      ]
     },
     "execution_count": 262,
     "metadata": {},
     "output_type": "execute_result"
    },
    {
     "data": {
      "image/png": "[encoded data removed]",
      "text/plain": [
       "<Figure size 432x288 with 1 Axes>"
      ]
     },
     "metadata": {
      "needs_background": "light"
     },
     "output_type": "display_data"
    }
   ],
   "source": [
    "sns.distplot(df.fare_amount)"
   ]
  },
  {
   "cell_type": "code",
   "execution_count": 263,
   "metadata": {},
   "outputs": [
    {
     "name": "stderr",
     "output_type": "stream",
     "text": [
      "C:\\ProgramData\\Anaconda3\\lib\\site-packages\\ipykernel_launcher.py:8: RuntimeWarning: invalid value encountered in log10\n",
      "  \n"
     ]
    }
   ],
   "source": [
    "# taking the log of the month and the day, not hour because there are observations in hours column having value \"0\" and we can't use log for these values\n",
    "# and can check using below function \n",
    "# df['hours'].min()\n",
    "df[\"month\"]=np.log10(df[\"month\"])\n",
    "df[\"day\"]=np.log10(df[\"day\"])\n",
    "\n",
    "#taking log of month column in test data\n",
    "df_test[\"month\"]=np.log10(df_test[\"month\"])"
   ]
  },
  {
   "cell_type": "code",
   "execution_count": 264,
   "metadata": {},
   "outputs": [
    {
     "data": {
      "text/plain": [
       "array([[<matplotlib.axes._subplots.AxesSubplot object at 0x00000000132E5518>,\n",
       "        <matplotlib.axes._subplots.AxesSubplot object at 0x00000000134528D0>,\n",
       "        <matplotlib.axes._subplots.AxesSubplot object at 0x0000000013791E10>],\n",
       "       [<matplotlib.axes._subplots.AxesSubplot object at 0x00000000137CE400>,\n",
       "        <matplotlib.axes._subplots.AxesSubplot object at 0x00000000137FF9E8>,\n",
       "        <matplotlib.axes._subplots.AxesSubplot object at 0x0000000013832F98>],\n",
       "       [<matplotlib.axes._subplots.AxesSubplot object at 0x0000000013870588>,\n",
       "        <matplotlib.axes._subplots.AxesSubplot object at 0x00000000138A0B70>,\n",
       "        <matplotlib.axes._subplots.AxesSubplot object at 0x00000000138A0BA8>],\n",
       "       [<matplotlib.axes._subplots.AxesSubplot object at 0x000000001390F6D8>,\n",
       "        <matplotlib.axes._subplots.AxesSubplot object at 0x0000000013941C88>,\n",
       "        <matplotlib.axes._subplots.AxesSubplot object at 0x000000001397F240>]],\n",
       "      dtype=object)"
      ]
     },
     "execution_count": 264,
     "metadata": {},
     "output_type": "execute_result"
    },
    {
     "data": {
      "image/png": "[encoded data removed]",
      "text/plain": [
       "<Figure size 792x792 with 12 Axes>"
      ]
     },
     "metadata": {
      "needs_background": "light"
     },
     "output_type": "display_data"
    }
   ],
   "source": [
    "# again take a look of histogram,especially the month and day variable\n",
    "df[df.dtypes[(df.dtypes==\"float64\")|(df.dtypes==\"int64\")].index.values].hist(figsize=[11,11])"
   ]
  },
  {
   "cell_type": "code",
   "execution_count": 265,
   "metadata": {},
   "outputs": [
    {
     "data": {
      "text/plain": [
       "fare_amount          float64\n",
       "pickup_longitude     float64\n",
       "pickup_latitude      float64\n",
       "dropoff_longitude    float64\n",
       "dropoff_latitude     float64\n",
       "passenger_count      float64\n",
       "month                float64\n",
       "day                  float64\n",
       "hours                float64\n",
       "Distance             float64\n",
       "dtype: object"
      ]
     },
     "execution_count": 265,
     "metadata": {},
     "output_type": "execute_result"
    }
   ],
   "source": [
    "df.dtypes"
   ]
  },
  {
   "cell_type": "code",
   "execution_count": 266,
   "metadata": {},
   "outputs": [],
   "source": [
    "# changing the position of the fare_amount variable\n",
    "df=df[[\"pickup_longitude\",\"pickup_latitude\",\"dropoff_longitude\",\"dropoff_latitude\",\n",
    "       \"passenger_count\",\"month\",\"day\",\"hours\",\"Distance\",\"fare_amount\"]]"
   ]
  },
  {
   "cell_type": "code",
   "execution_count": 267,
   "metadata": {},
   "outputs": [
    {
     "data": {
      "text/html": [
       "<div>\n",
       "<style scoped>\n",
       "    .dataframe tbody tr th:only-of-type {\n",
       "        vertical-align: middle;\n",
       "    }\n",
       "\n",
       "    .dataframe tbody tr th {\n",
       "        vertical-align: top;\n",
       "    }\n",
       "\n",
       "    .dataframe thead th {\n",
       "        text-align: right;\n",
       "    }\n",
       "</style>\n",
       "<table border=\"1\" class=\"dataframe\">\n",
       "  <thead>\n",
       "    <tr style=\"text-align: right;\">\n",
       "      <th></th>\n",
       "      <th>pickup_longitude</th>\n",
       "      <th>pickup_latitude</th>\n",
       "      <th>dropoff_longitude</th>\n",
       "      <th>dropoff_latitude</th>\n",
       "      <th>passenger_count</th>\n",
       "      <th>month</th>\n",
       "      <th>day</th>\n",
       "      <th>hours</th>\n",
       "      <th>Distance</th>\n",
       "      <th>fare_amount</th>\n",
       "    </tr>\n",
       "  </thead>\n",
       "  <tbody>\n",
       "    <tr>\n",
       "      <th>0</th>\n",
       "      <td>-73.982377</td>\n",
       "      <td>40.753982</td>\n",
       "      <td>-73.981877</td>\n",
       "      <td>40.712278</td>\n",
       "      <td>1.0</td>\n",
       "      <td>0.778151</td>\n",
       "      <td>1.176091</td>\n",
       "      <td>17.0</td>\n",
       "      <td>0.042204</td>\n",
       "      <td>8.0</td>\n",
       "    </tr>\n",
       "    <tr>\n",
       "      <th>1</th>\n",
       "      <td>-74.016048</td>\n",
       "      <td>40.711303</td>\n",
       "      <td>-73.979268</td>\n",
       "      <td>40.782004</td>\n",
       "      <td>1.0</td>\n",
       "      <td>0.000000</td>\n",
       "      <td>0.698970</td>\n",
       "      <td>16.0</td>\n",
       "      <td>0.107481</td>\n",
       "      <td>16.9</td>\n",
       "    </tr>\n",
       "    <tr>\n",
       "      <th>2</th>\n",
       "      <td>-73.982738</td>\n",
       "      <td>40.761270</td>\n",
       "      <td>-73.991242</td>\n",
       "      <td>40.750562</td>\n",
       "      <td>2.0</td>\n",
       "      <td>0.903090</td>\n",
       "      <td>1.255273</td>\n",
       "      <td>0.0</td>\n",
       "      <td>0.019212</td>\n",
       "      <td>5.7</td>\n",
       "    </tr>\n",
       "    <tr>\n",
       "      <th>3</th>\n",
       "      <td>-73.987130</td>\n",
       "      <td>40.733143</td>\n",
       "      <td>-73.991567</td>\n",
       "      <td>40.758092</td>\n",
       "      <td>1.0</td>\n",
       "      <td>0.602060</td>\n",
       "      <td>1.322219</td>\n",
       "      <td>4.0</td>\n",
       "      <td>0.029386</td>\n",
       "      <td>7.7</td>\n",
       "    </tr>\n",
       "    <tr>\n",
       "      <th>4</th>\n",
       "      <td>-73.968095</td>\n",
       "      <td>40.768008</td>\n",
       "      <td>-73.956655</td>\n",
       "      <td>40.783762</td>\n",
       "      <td>1.0</td>\n",
       "      <td>0.477121</td>\n",
       "      <td>0.954243</td>\n",
       "      <td>7.0</td>\n",
       "      <td>0.027194</td>\n",
       "      <td>5.3</td>\n",
       "    </tr>\n",
       "  </tbody>\n",
       "</table>\n",
       "</div>"
      ],
      "text/plain": [
       "   pickup_longitude  pickup_latitude  dropoff_longitude  dropoff_latitude  \\\n",
       "0        -73.982377        40.753982         -73.981877         40.712278   \n",
       "1        -74.016048        40.711303         -73.979268         40.782004   \n",
       "2        -73.982738        40.761270         -73.991242         40.750562   \n",
       "3        -73.987130        40.733143         -73.991567         40.758092   \n",
       "4        -73.968095        40.768008         -73.956655         40.783762   \n",
       "\n",
       "   passenger_count     month       day  hours  Distance  fare_amount  \n",
       "0              1.0  0.778151  1.176091   17.0  0.042204          8.0  \n",
       "1              1.0  0.000000  0.698970   16.0  0.107481         16.9  \n",
       "2              2.0  0.903090  1.255273    0.0  0.019212          5.7  \n",
       "3              1.0  0.602060  1.322219    4.0  0.029386          7.7  \n",
       "4              1.0  0.477121  0.954243    7.0  0.027194          5.3  "
      ]
     },
     "execution_count": 267,
     "metadata": {},
     "output_type": "execute_result"
    }
   ],
   "source": [
    "df.head()"
   ]
  },
  {
   "cell_type": "code",
   "execution_count": 268,
   "metadata": {},
   "outputs": [],
   "source": [
    "# selecting the variable for doing data min-max normalisation \n",
    "c_names=[\"pickup_longitude\",\"pickup_latitude\",\"dropoff_longitude\",\"dropoff_latitude\",\"hours\"]\n",
    "c_names_test=[\"pickup_longitude\",\"pickup_latitude\",\"dropoff_longitude\",\"dropoff_latitude\",\"hours\"]"
   ]
  },
  {
   "cell_type": "code",
   "execution_count": 269,
   "metadata": {},
   "outputs": [
    {
     "name": "stdout",
     "output_type": "stream",
     "text": [
      "pickup_longitude\n",
      "pickup_latitude\n",
      "dropoff_longitude\n",
      "dropoff_latitude\n",
      "hours\n"
     ]
    }
   ],
   "source": [
    "# min-max normalisation\n",
    "for i in c_names:\n",
    "    print(i)\n",
    "    df[i]=(df[i]-(df[i].min()))/((df[i].max())-(df[i].min()))\n",
    "    \n"
   ]
  },
  {
   "cell_type": "code",
   "execution_count": 270,
   "metadata": {},
   "outputs": [
    {
     "name": "stdout",
     "output_type": "stream",
     "text": [
      "pickup_longitude\n",
      "pickup_latitude\n",
      "dropoff_longitude\n",
      "dropoff_latitude\n",
      "hours\n"
     ]
    }
   ],
   "source": [
    "#min-max normalisation\n",
    "for i in c_names_test:\n",
    "    print(i)\n",
    "    df_test[i]=(df_test[i]-(df_test[i].min()))/((df_test[i].max())-(df_test[i].min()))"
   ]
  },
  {
   "cell_type": "code",
   "execution_count": 271,
   "metadata": {},
   "outputs": [
    {
     "data": {
      "text/html": [
       "<div>\n",
       "<style scoped>\n",
       "    .dataframe tbody tr th:only-of-type {\n",
       "        vertical-align: middle;\n",
       "    }\n",
       "\n",
       "    .dataframe tbody tr th {\n",
       "        vertical-align: top;\n",
       "    }\n",
       "\n",
       "    .dataframe thead th {\n",
       "        text-align: right;\n",
       "    }\n",
       "</style>\n",
       "<table border=\"1\" class=\"dataframe\">\n",
       "  <thead>\n",
       "    <tr style=\"text-align: right;\">\n",
       "      <th></th>\n",
       "      <th>pickup_longitude</th>\n",
       "      <th>pickup_latitude</th>\n",
       "      <th>dropoff_longitude</th>\n",
       "      <th>dropoff_latitude</th>\n",
       "      <th>passenger_count</th>\n",
       "      <th>month</th>\n",
       "      <th>day</th>\n",
       "      <th>hours</th>\n",
       "      <th>Distance</th>\n",
       "      <th>fare_amount</th>\n",
       "    </tr>\n",
       "  </thead>\n",
       "  <tbody>\n",
       "    <tr>\n",
       "      <th>0</th>\n",
       "      <td>0.326374</td>\n",
       "      <td>0.521024</td>\n",
       "      <td>0.456641</td>\n",
       "      <td>0.207069</td>\n",
       "      <td>1.0</td>\n",
       "      <td>0.778151</td>\n",
       "      <td>1.176091</td>\n",
       "      <td>0.739130</td>\n",
       "      <td>0.042204</td>\n",
       "      <td>8.0</td>\n",
       "    </tr>\n",
       "    <tr>\n",
       "      <th>1</th>\n",
       "      <td>0.204885</td>\n",
       "      <td>0.191315</td>\n",
       "      <td>0.480471</td>\n",
       "      <td>0.730644</td>\n",
       "      <td>1.0</td>\n",
       "      <td>0.000000</td>\n",
       "      <td>0.698970</td>\n",
       "      <td>0.695652</td>\n",
       "      <td>0.107481</td>\n",
       "      <td>16.9</td>\n",
       "    </tr>\n",
       "    <tr>\n",
       "      <th>2</th>\n",
       "      <td>0.325070</td>\n",
       "      <td>0.577322</td>\n",
       "      <td>0.371125</td>\n",
       "      <td>0.494545</td>\n",
       "      <td>2.0</td>\n",
       "      <td>0.903090</td>\n",
       "      <td>1.255273</td>\n",
       "      <td>0.000000</td>\n",
       "      <td>0.019212</td>\n",
       "      <td>5.7</td>\n",
       "    </tr>\n",
       "    <tr>\n",
       "      <th>3</th>\n",
       "      <td>0.309223</td>\n",
       "      <td>0.360034</td>\n",
       "      <td>0.368157</td>\n",
       "      <td>0.551088</td>\n",
       "      <td>1.0</td>\n",
       "      <td>0.602060</td>\n",
       "      <td>1.322219</td>\n",
       "      <td>0.173913</td>\n",
       "      <td>0.029386</td>\n",
       "      <td>7.7</td>\n",
       "    </tr>\n",
       "    <tr>\n",
       "      <th>4</th>\n",
       "      <td>0.377903</td>\n",
       "      <td>0.629374</td>\n",
       "      <td>0.686973</td>\n",
       "      <td>0.743844</td>\n",
       "      <td>1.0</td>\n",
       "      <td>0.477121</td>\n",
       "      <td>0.954243</td>\n",
       "      <td>0.304348</td>\n",
       "      <td>0.027194</td>\n",
       "      <td>5.3</td>\n",
       "    </tr>\n",
       "  </tbody>\n",
       "</table>\n",
       "</div>"
      ],
      "text/plain": [
       "   pickup_longitude  pickup_latitude  dropoff_longitude  dropoff_latitude  \\\n",
       "0          0.326374         0.521024           0.456641          0.207069   \n",
       "1          0.204885         0.191315           0.480471          0.730644   \n",
       "2          0.325070         0.577322           0.371125          0.494545   \n",
       "3          0.309223         0.360034           0.368157          0.551088   \n",
       "4          0.377903         0.629374           0.686973          0.743844   \n",
       "\n",
       "   passenger_count     month       day     hours  Distance  fare_amount  \n",
       "0              1.0  0.778151  1.176091  0.739130  0.042204          8.0  \n",
       "1              1.0  0.000000  0.698970  0.695652  0.107481         16.9  \n",
       "2              2.0  0.903090  1.255273  0.000000  0.019212          5.7  \n",
       "3              1.0  0.602060  1.322219  0.173913  0.029386          7.7  \n",
       "4              1.0  0.477121  0.954243  0.304348  0.027194          5.3  "
      ]
     },
     "execution_count": 271,
     "metadata": {},
     "output_type": "execute_result"
    }
   ],
   "source": [
    "# take a look of data again\n",
    "df.head()"
   ]
  },
  {
   "cell_type": "code",
   "execution_count": null,
   "metadata": {},
   "outputs": [],
   "source": []
  },
  {
   "cell_type": "code",
   "execution_count": 272,
   "metadata": {},
   "outputs": [],
   "source": [
    "# correlation analysis\n",
    "#corelation plot\n",
    "df_cor = df.loc[:,cl_names]"
   ]
  },
  {
   "cell_type": "code",
   "execution_count": 273,
   "metadata": {},
   "outputs": [
    {
     "data": {
      "text/plain": [
       "<matplotlib.axes._subplots.AxesSubplot at 0x13d51b38>"
      ]
     },
     "execution_count": 273,
     "metadata": {},
     "output_type": "execute_result"
    },
    {
     "data": {
      "image/png": "[encoded data removed]",
      "text/plain": [
       "<Figure size 504x360 with 2 Axes>"
      ]
     },
     "metadata": {
      "needs_background": "light"
     },
     "output_type": "display_data"
    }
   ],
   "source": [
    "#set the dimensions of the plot\n",
    "f,ax=plt.subplots(figsize=(7,5))\n",
    "#generating correlation matrix\n",
    "cor=df_cor.corr()\n",
    "#plot usijng seaborn library\n",
    "sns.heatmap(cor,mask=np.zeros_like(cor,dtype=np.bool),cmap=sns.diverging_palette(220,10,as_cmap=True),square=True,ax=ax)"
   ]
  },
  {
   "cell_type": "code",
   "execution_count": 274,
   "metadata": {},
   "outputs": [],
   "source": [
    "# droping the features\n",
    "df=df.drop([\"dropoff_latitude\",\"pickup_latitude\",\"day\"],axis=1)\n",
    "\n",
    "# also droping the features \n",
    "df_test=df_test.drop([\"dropoff_latitude\",\"pickup_latitude\"],axis=1)"
   ]
  },
  {
   "cell_type": "code",
   "execution_count": null,
   "metadata": {},
   "outputs": [],
   "source": []
  },
  {
   "cell_type": "code",
   "execution_count": null,
   "metadata": {},
   "outputs": [],
   "source": [
    "### MODELING ####"
   ]
  },
  {
   "cell_type": "code",
   "execution_count": 275,
   "metadata": {},
   "outputs": [
    {
     "name": "stdout",
     "output_type": "stream",
     "text": [
      "[[0.32637378 0.45664125 1.         0.77815125 0.73913043 0.04220355]\n",
      " [0.20488461 0.48047121 1.         0.         0.69565217 0.107481  ]\n",
      " [0.32506964 0.37112461 2.         0.90308999 0.         0.019212  ]\n",
      " ...\n",
      " [0.36198386 0.47764942 1.         1.04139269 0.47826087 0.019148  ]\n",
      " [0.41783689 0.45567782 1.         0.69897    1.         0.038571  ]\n",
      " [0.25517037 0.43838181 1.         1.07918125 0.26086957 0.050454  ]]\n",
      "[ 8.  16.9  5.7 ...  8.5  8.1  8.5]\n"
     ]
    }
   ],
   "source": [
    "# Firstly putting the values in x and y for training and test\n",
    "x=df.values[:,:6]\n",
    "y=df.values[:,6]\n",
    "print(x)\n",
    "print(y)"
   ]
  },
  {
   "cell_type": "code",
   "execution_count": 276,
   "metadata": {},
   "outputs": [],
   "source": [
    "# splitting the data into train and test\n",
    "x_train,x_test,y_train,y_test=train_test_split(x,y,test_size=0.2,random_state=0)"
   ]
  },
  {
   "cell_type": "code",
   "execution_count": 277,
   "metadata": {},
   "outputs": [],
   "source": [
    "#train model using the training sets\n",
    "model=sm.OLS(y_train,x_train).fit()\n"
   ]
  },
  {
   "cell_type": "code",
   "execution_count": 278,
   "metadata": {},
   "outputs": [
    {
     "data": {
      "text/html": [
       "<table class=\"simpletable\">\n",
       "<caption>OLS Regression Results</caption>\n",
       "<tr>\n",
       "  <th>Dep. Variable:</th>            <td>y</td>        <th>  R-squared (uncentered):</th>      <td>   0.903</td> \n",
       "</tr>\n",
       "<tr>\n",
       "  <th>Model:</th>                   <td>OLS</td>       <th>  Adj. R-squared (uncentered):</th> <td>   0.903</td> \n",
       "</tr>\n",
       "<tr>\n",
       "  <th>Method:</th>             <td>Least Squares</td>  <th>  F-statistic:       </th>          <td>2.001e+04</td>\n",
       "</tr>\n",
       "<tr>\n",
       "  <th>Date:</th>             <td>Thu, 16 Jan 2020</td> <th>  Prob (F-statistic):</th>           <td>  0.00</td>  \n",
       "</tr>\n",
       "<tr>\n",
       "  <th>Time:</th>                 <td>13:24:21</td>     <th>  Log-Likelihood:    </th>          <td> -33603.</td> \n",
       "</tr>\n",
       "<tr>\n",
       "  <th>No. Observations:</th>      <td> 12853</td>      <th>  AIC:               </th>          <td>6.722e+04</td>\n",
       "</tr>\n",
       "<tr>\n",
       "  <th>Df Residuals:</th>          <td> 12847</td>      <th>  BIC:               </th>          <td>6.726e+04</td>\n",
       "</tr>\n",
       "<tr>\n",
       "  <th>Df Model:</th>              <td>     6</td>      <th>                     </th>              <td> </td>    \n",
       "</tr>\n",
       "<tr>\n",
       "  <th>Covariance Type:</th>      <td>nonrobust</td>    <th>                     </th>              <td> </td>    \n",
       "</tr>\n",
       "</table>\n",
       "<table class=\"simpletable\">\n",
       "<tr>\n",
       "   <td></td>     <th>coef</th>     <th>std err</th>      <th>t</th>      <th>P>|t|</th>  <th>[0.025</th>    <th>0.975]</th>  \n",
       "</tr>\n",
       "<tr>\n",
       "  <th>x1</th> <td>   11.9184</td> <td>    0.337</td> <td>   35.366</td> <td> 0.000</td> <td>   11.258</td> <td>   12.579</td>\n",
       "</tr>\n",
       "<tr>\n",
       "  <th>x2</th> <td>   -1.3114</td> <td>    0.191</td> <td>   -6.853</td> <td> 0.000</td> <td>   -1.687</td> <td>   -0.936</td>\n",
       "</tr>\n",
       "<tr>\n",
       "  <th>x3</th> <td>    0.1432</td> <td>    0.023</td> <td>    6.318</td> <td> 0.000</td> <td>    0.099</td> <td>    0.188</td>\n",
       "</tr>\n",
       "<tr>\n",
       "  <th>x4</th> <td>    0.9315</td> <td>    0.085</td> <td>   10.951</td> <td> 0.000</td> <td>    0.765</td> <td>    1.098</td>\n",
       "</tr>\n",
       "<tr>\n",
       "  <th>x5</th> <td>    0.7477</td> <td>    0.097</td> <td>    7.728</td> <td> 0.000</td> <td>    0.558</td> <td>    0.937</td>\n",
       "</tr>\n",
       "<tr>\n",
       "  <th>x6</th> <td>  141.4020</td> <td>    1.128</td> <td>  125.340</td> <td> 0.000</td> <td>  139.191</td> <td>  143.613</td>\n",
       "</tr>\n",
       "</table>\n",
       "<table class=\"simpletable\">\n",
       "<tr>\n",
       "  <th>Omnibus:</th>       <td>8375.949</td> <th>  Durbin-Watson:     </th>  <td>   1.982</td> \n",
       "</tr>\n",
       "<tr>\n",
       "  <th>Prob(Omnibus):</th>  <td> 0.000</td>  <th>  Jarque-Bera (JB):  </th> <td>389989.198</td>\n",
       "</tr>\n",
       "<tr>\n",
       "  <th>Skew:</th>           <td> 2.523</td>  <th>  Prob(JB):          </th>  <td>    0.00</td> \n",
       "</tr>\n",
       "<tr>\n",
       "  <th>Kurtosis:</th>       <td>29.509</td>  <th>  Cond. No.          </th>  <td>    87.8</td> \n",
       "</tr>\n",
       "</table><br/><br/>Warnings:<br/>[1] Standard Errors assume that the covariance matrix of the errors is correctly specified."
      ],
      "text/plain": [
       "<class 'statsmodels.iolib.summary.Summary'>\n",
       "\"\"\"\n",
       "                                 OLS Regression Results                                \n",
       "=======================================================================================\n",
       "Dep. Variable:                      y   R-squared (uncentered):                   0.903\n",
       "Model:                            OLS   Adj. R-squared (uncentered):              0.903\n",
       "Method:                 Least Squares   F-statistic:                          2.001e+04\n",
       "Date:                Thu, 16 Jan 2020   Prob (F-statistic):                        0.00\n",
       "Time:                        13:24:21   Log-Likelihood:                         -33603.\n",
       "No. Observations:               12853   AIC:                                  6.722e+04\n",
       "Df Residuals:                   12847   BIC:                                  6.726e+04\n",
       "Df Model:                           6                                                  \n",
       "Covariance Type:            nonrobust                                                  \n",
       "==============================================================================\n",
       "                 coef    std err          t      P>|t|      [0.025      0.975]\n",
       "------------------------------------------------------------------------------\n",
       "x1            11.9184      0.337     35.366      0.000      11.258      12.579\n",
       "x2            -1.3114      0.191     -6.853      0.000      -1.687      -0.936\n",
       "x3             0.1432      0.023      6.318      0.000       0.099       0.188\n",
       "x4             0.9315      0.085     10.951      0.000       0.765       1.098\n",
       "x5             0.7477      0.097      7.728      0.000       0.558       0.937\n",
       "x6           141.4020      1.128    125.340      0.000     139.191     143.613\n",
       "==============================================================================\n",
       "Omnibus:                     8375.949   Durbin-Watson:                   1.982\n",
       "Prob(Omnibus):                  0.000   Jarque-Bera (JB):           389989.198\n",
       "Skew:                           2.523   Prob(JB):                         0.00\n",
       "Kurtosis:                      29.509   Cond. No.                         87.8\n",
       "==============================================================================\n",
       "\n",
       "Warnings:\n",
       "[1] Standard Errors assume that the covariance matrix of the errors is correctly specified.\n",
       "\"\"\""
      ]
     },
     "execution_count": 278,
     "metadata": {},
     "output_type": "execute_result"
    }
   ],
   "source": [
    "#summary of the model\n",
    "model.summary()"
   ]
  },
  {
   "cell_type": "code",
   "execution_count": 303,
   "metadata": {},
   "outputs": [
    {
     "data": {
      "text/plain": [
       "array([ 6.08290071, 19.16312676,  7.73006542, ..., 14.12204304,\n",
       "        9.40065558,  8.13633072])"
      ]
     },
     "execution_count": 303,
     "metadata": {},
     "output_type": "execute_result"
    }
   ],
   "source": [
    "#prediction of the fare_amount variable in the test data\n",
    "prediction_LR=model.predict(x_test)\n",
    "\n",
    "# values of the fare amount of test data  predicted using Linear Regression\n",
    "prediction_LR"
   ]
  },
  {
   "cell_type": "code",
   "execution_count": 281,
   "metadata": {},
   "outputs": [],
   "source": [
    "# defining the root mean square function\n",
    "def rmse(predictions, targets):\n",
    "    return np.sqrt(((predictions - targets) ** 2).mean())"
   ]
  },
  {
   "cell_type": "code",
   "execution_count": 304,
   "metadata": {},
   "outputs": [
    {
     "data": {
      "text/plain": [
       "3.1798969799673453"
      ]
     },
     "execution_count": 304,
     "metadata": {},
     "output_type": "execute_result"
    }
   ],
   "source": [
    "#root mean square value\n",
    "rmse(y_test,prediction_LR)"
   ]
  },
  {
   "cell_type": "code",
   "execution_count": 283,
   "metadata": {},
   "outputs": [
    {
     "data": {
      "text/html": [
       "<div>\n",
       "<style scoped>\n",
       "    .dataframe tbody tr th:only-of-type {\n",
       "        vertical-align: middle;\n",
       "    }\n",
       "\n",
       "    .dataframe tbody tr th {\n",
       "        vertical-align: top;\n",
       "    }\n",
       "\n",
       "    .dataframe thead th {\n",
       "        text-align: right;\n",
       "    }\n",
       "</style>\n",
       "<table border=\"1\" class=\"dataframe\">\n",
       "  <thead>\n",
       "    <tr style=\"text-align: right;\">\n",
       "      <th></th>\n",
       "      <th>pickup_longitude</th>\n",
       "      <th>dropoff_longitude</th>\n",
       "      <th>passenger_count</th>\n",
       "      <th>month</th>\n",
       "      <th>hours</th>\n",
       "      <th>Distance</th>\n",
       "    </tr>\n",
       "  </thead>\n",
       "  <tbody>\n",
       "    <tr>\n",
       "      <th>0</th>\n",
       "      <td>0.220338</td>\n",
       "      <td>0.221502</td>\n",
       "      <td>1</td>\n",
       "      <td>0.778151</td>\n",
       "      <td>0.739130</td>\n",
       "      <td>0.028080</td>\n",
       "    </tr>\n",
       "    <tr>\n",
       "      <th>1</th>\n",
       "      <td>0.209638</td>\n",
       "      <td>0.207781</td>\n",
       "      <td>1</td>\n",
       "      <td>0.000000</td>\n",
       "      <td>0.695652</td>\n",
       "      <td>0.031841</td>\n",
       "    </tr>\n",
       "    <tr>\n",
       "      <th>2</th>\n",
       "      <td>0.213066</td>\n",
       "      <td>0.222898</td>\n",
       "      <td>1</td>\n",
       "      <td>0.903090</td>\n",
       "      <td>0.000000</td>\n",
       "      <td>0.007991</td>\n",
       "    </tr>\n",
       "    <tr>\n",
       "      <th>3</th>\n",
       "      <td>0.214143</td>\n",
       "      <td>0.214414</td>\n",
       "      <td>1</td>\n",
       "      <td>0.602060</td>\n",
       "      <td>0.173913</td>\n",
       "      <td>0.025460</td>\n",
       "    </tr>\n",
       "    <tr>\n",
       "      <th>4</th>\n",
       "      <td>0.226085</td>\n",
       "      <td>0.215894</td>\n",
       "      <td>1</td>\n",
       "      <td>0.477121</td>\n",
       "      <td>0.304348</td>\n",
       "      <td>0.067867</td>\n",
       "    </tr>\n",
       "  </tbody>\n",
       "</table>\n",
       "</div>"
      ],
      "text/plain": [
       "   pickup_longitude  dropoff_longitude  passenger_count     month     hours  \\\n",
       "0          0.220338           0.221502                1  0.778151  0.739130   \n",
       "1          0.209638           0.207781                1  0.000000  0.695652   \n",
       "2          0.213066           0.222898                1  0.903090  0.000000   \n",
       "3          0.214143           0.214414                1  0.602060  0.173913   \n",
       "4          0.226085           0.215894                1  0.477121  0.304348   \n",
       "\n",
       "   Distance  \n",
       "0  0.028080  \n",
       "1  0.031841  \n",
       "2  0.007991  \n",
       "3  0.025460  \n",
       "4  0.067867  "
      ]
     },
     "execution_count": 283,
     "metadata": {},
     "output_type": "execute_result"
    }
   ],
   "source": [
    "df_test.head()"
   ]
  },
  {
   "cell_type": "code",
   "execution_count": 284,
   "metadata": {},
   "outputs": [
    {
     "data": {
      "text/plain": [
       "0        7.726899\n",
       "1        7.391864\n",
       "2        4.361515\n",
       "3        6.705260\n",
       "4       12.823223\n",
       "5        9.062840\n",
       "6        6.132397\n",
       "7       50.205306\n",
       "8       10.708712\n",
       "9        5.740931\n",
       "10       7.286734\n",
       "11      13.698008\n",
       "12       4.833231\n",
       "13       6.793716\n",
       "14       7.727751\n",
       "15      13.795261\n",
       "16       3.275089\n",
       "17       9.057922\n",
       "18       4.894916\n",
       "19       4.928672\n",
       "20       7.671853\n",
       "21       7.175025\n",
       "22       5.899504\n",
       "23       7.345202\n",
       "24      14.257070\n",
       "25       5.942174\n",
       "26      34.195819\n",
       "27      21.719056\n",
       "28       5.403058\n",
       "29      12.914031\n",
       "          ...    \n",
       "9884    31.800592\n",
       "9885    14.882020\n",
       "9886    18.221735\n",
       "9887     7.779978\n",
       "9888     4.661586\n",
       "9889     7.417771\n",
       "9890    10.235789\n",
       "9891    15.481061\n",
       "9892     9.678707\n",
       "9893    14.483738\n",
       "9894     9.506821\n",
       "9895    19.654311\n",
       "9896     8.908662\n",
       "9897    12.701104\n",
       "9898     5.740498\n",
       "9899    16.056447\n",
       "9900     8.154185\n",
       "9901     7.044686\n",
       "9902    13.345391\n",
       "9903     7.812112\n",
       "9904    32.340073\n",
       "9905    22.189036\n",
       "9906     5.436760\n",
       "9907    23.370344\n",
       "9908     7.066263\n",
       "9909     8.596209\n",
       "9910    10.015273\n",
       "9911    43.932263\n",
       "9912    20.182208\n",
       "9913     6.847862\n",
       "Length: 9914, dtype: float64"
      ]
     },
     "execution_count": 284,
     "metadata": {},
     "output_type": "execute_result"
    }
   ],
   "source": [
    "# Now the values for real test data #\n",
    "prediction_test=model.predict(df_test.iloc[:,:6])\n",
    "# Predicted values of the test data\n",
    "prediction_test"
   ]
  },
  {
   "cell_type": "code",
   "execution_count": 285,
   "metadata": {},
   "outputs": [],
   "source": [
    "# Filling the fare_amount column by prediction_test data\n",
    "df_test[\"fare_amount\"]=prediction_test"
   ]
  },
  {
   "cell_type": "code",
   "execution_count": 286,
   "metadata": {},
   "outputs": [
    {
     "data": {
      "text/html": [
       "<div>\n",
       "<style scoped>\n",
       "    .dataframe tbody tr th:only-of-type {\n",
       "        vertical-align: middle;\n",
       "    }\n",
       "\n",
       "    .dataframe tbody tr th {\n",
       "        vertical-align: top;\n",
       "    }\n",
       "\n",
       "    .dataframe thead th {\n",
       "        text-align: right;\n",
       "    }\n",
       "</style>\n",
       "<table border=\"1\" class=\"dataframe\">\n",
       "  <thead>\n",
       "    <tr style=\"text-align: right;\">\n",
       "      <th></th>\n",
       "      <th>pickup_longitude</th>\n",
       "      <th>dropoff_longitude</th>\n",
       "      <th>passenger_count</th>\n",
       "      <th>month</th>\n",
       "      <th>hours</th>\n",
       "      <th>Distance</th>\n",
       "      <th>fare_amount</th>\n",
       "    </tr>\n",
       "  </thead>\n",
       "  <tbody>\n",
       "    <tr>\n",
       "      <th>0</th>\n",
       "      <td>0.220338</td>\n",
       "      <td>0.221502</td>\n",
       "      <td>1</td>\n",
       "      <td>0.778151</td>\n",
       "      <td>0.739130</td>\n",
       "      <td>0.028080</td>\n",
       "      <td>7.726899</td>\n",
       "    </tr>\n",
       "    <tr>\n",
       "      <th>1</th>\n",
       "      <td>0.209638</td>\n",
       "      <td>0.207781</td>\n",
       "      <td>1</td>\n",
       "      <td>0.000000</td>\n",
       "      <td>0.695652</td>\n",
       "      <td>0.031841</td>\n",
       "      <td>7.391864</td>\n",
       "    </tr>\n",
       "    <tr>\n",
       "      <th>2</th>\n",
       "      <td>0.213066</td>\n",
       "      <td>0.222898</td>\n",
       "      <td>1</td>\n",
       "      <td>0.903090</td>\n",
       "      <td>0.000000</td>\n",
       "      <td>0.007991</td>\n",
       "      <td>4.361515</td>\n",
       "    </tr>\n",
       "    <tr>\n",
       "      <th>3</th>\n",
       "      <td>0.214143</td>\n",
       "      <td>0.214414</td>\n",
       "      <td>1</td>\n",
       "      <td>0.602060</td>\n",
       "      <td>0.173913</td>\n",
       "      <td>0.025460</td>\n",
       "      <td>6.705260</td>\n",
       "    </tr>\n",
       "    <tr>\n",
       "      <th>4</th>\n",
       "      <td>0.226085</td>\n",
       "      <td>0.215894</td>\n",
       "      <td>1</td>\n",
       "      <td>0.477121</td>\n",
       "      <td>0.304348</td>\n",
       "      <td>0.067867</td>\n",
       "      <td>12.823223</td>\n",
       "    </tr>\n",
       "  </tbody>\n",
       "</table>\n",
       "</div>"
      ],
      "text/plain": [
       "   pickup_longitude  dropoff_longitude  passenger_count     month     hours  \\\n",
       "0          0.220338           0.221502                1  0.778151  0.739130   \n",
       "1          0.209638           0.207781                1  0.000000  0.695652   \n",
       "2          0.213066           0.222898                1  0.903090  0.000000   \n",
       "3          0.214143           0.214414                1  0.602060  0.173913   \n",
       "4          0.226085           0.215894                1  0.477121  0.304348   \n",
       "\n",
       "   Distance  fare_amount  \n",
       "0  0.028080     7.726899  \n",
       "1  0.031841     7.391864  \n",
       "2  0.007991     4.361515  \n",
       "3  0.025460     6.705260  \n",
       "4  0.067867    12.823223  "
      ]
     },
     "execution_count": 286,
     "metadata": {},
     "output_type": "execute_result"
    }
   ],
   "source": [
    "df_test.head()"
   ]
  },
  {
   "cell_type": "code",
   "execution_count": 287,
   "metadata": {},
   "outputs": [],
   "source": [
    "#Decision Tree\n",
    "#Divide data into test and train\n",
    "train,test=train_test_split(df,test_size=0.2)"
   ]
  },
  {
   "cell_type": "code",
   "execution_count": 288,
   "metadata": {},
   "outputs": [],
   "source": [
    "from sklearn.tree import DecisionTreeRegressor"
   ]
  },
  {
   "cell_type": "code",
   "execution_count": 289,
   "metadata": {},
   "outputs": [],
   "source": [
    "#fitting the model in decision tree for regression\n",
    "fit_model=DecisionTreeRegressor(max_depth=2).fit(train.iloc[:,:6],train.iloc[:,6])"
   ]
  },
  {
   "cell_type": "code",
   "execution_count": 290,
   "metadata": {},
   "outputs": [
    {
     "data": {
      "text/plain": [
       "array([15.82296864,  6.78618879,  6.78618879, ..., 10.4704382 ,\n",
       "       10.4704382 , 15.82296864])"
      ]
     },
     "execution_count": 290,
     "metadata": {},
     "output_type": "execute_result"
    }
   ],
   "source": [
    "#model prediction\n",
    "prediction_DT=fit_model.predict(test.iloc[:,0:6])\n",
    "prediction_DT"
   ]
  },
  {
   "cell_type": "code",
   "execution_count": 291,
   "metadata": {},
   "outputs": [
    {
     "data": {
      "text/html": [
       "<div>\n",
       "<style scoped>\n",
       "    .dataframe tbody tr th:only-of-type {\n",
       "        vertical-align: middle;\n",
       "    }\n",
       "\n",
       "    .dataframe tbody tr th {\n",
       "        vertical-align: top;\n",
       "    }\n",
       "\n",
       "    .dataframe thead th {\n",
       "        text-align: right;\n",
       "    }\n",
       "</style>\n",
       "<table border=\"1\" class=\"dataframe\">\n",
       "  <thead>\n",
       "    <tr style=\"text-align: right;\">\n",
       "      <th></th>\n",
       "      <th>pickup_longitude</th>\n",
       "      <th>dropoff_longitude</th>\n",
       "      <th>passenger_count</th>\n",
       "      <th>month</th>\n",
       "      <th>hours</th>\n",
       "      <th>Distance</th>\n",
       "      <th>fare_amount</th>\n",
       "    </tr>\n",
       "  </thead>\n",
       "  <tbody>\n",
       "    <tr>\n",
       "      <th>0</th>\n",
       "      <td>0.220338</td>\n",
       "      <td>0.221502</td>\n",
       "      <td>1</td>\n",
       "      <td>0.778151</td>\n",
       "      <td>0.739130</td>\n",
       "      <td>0.028080</td>\n",
       "      <td>0</td>\n",
       "    </tr>\n",
       "    <tr>\n",
       "      <th>1</th>\n",
       "      <td>0.209638</td>\n",
       "      <td>0.207781</td>\n",
       "      <td>1</td>\n",
       "      <td>0.000000</td>\n",
       "      <td>0.695652</td>\n",
       "      <td>0.031841</td>\n",
       "      <td>0</td>\n",
       "    </tr>\n",
       "    <tr>\n",
       "      <th>2</th>\n",
       "      <td>0.213066</td>\n",
       "      <td>0.222898</td>\n",
       "      <td>1</td>\n",
       "      <td>0.903090</td>\n",
       "      <td>0.000000</td>\n",
       "      <td>0.007991</td>\n",
       "      <td>0</td>\n",
       "    </tr>\n",
       "    <tr>\n",
       "      <th>3</th>\n",
       "      <td>0.214143</td>\n",
       "      <td>0.214414</td>\n",
       "      <td>1</td>\n",
       "      <td>0.602060</td>\n",
       "      <td>0.173913</td>\n",
       "      <td>0.025460</td>\n",
       "      <td>0</td>\n",
       "    </tr>\n",
       "    <tr>\n",
       "      <th>4</th>\n",
       "      <td>0.226085</td>\n",
       "      <td>0.215894</td>\n",
       "      <td>1</td>\n",
       "      <td>0.477121</td>\n",
       "      <td>0.304348</td>\n",
       "      <td>0.067867</td>\n",
       "      <td>0</td>\n",
       "    </tr>\n",
       "  </tbody>\n",
       "</table>\n",
       "</div>"
      ],
      "text/plain": [
       "   pickup_longitude  dropoff_longitude  passenger_count     month     hours  \\\n",
       "0          0.220338           0.221502                1  0.778151  0.739130   \n",
       "1          0.209638           0.207781                1  0.000000  0.695652   \n",
       "2          0.213066           0.222898                1  0.903090  0.000000   \n",
       "3          0.214143           0.214414                1  0.602060  0.173913   \n",
       "4          0.226085           0.215894                1  0.477121  0.304348   \n",
       "\n",
       "   Distance  fare_amount  \n",
       "0  0.028080            0  \n",
       "1  0.031841            0  \n",
       "2  0.007991            0  \n",
       "3  0.025460            0  \n",
       "4  0.067867            0  "
      ]
     },
     "execution_count": 291,
     "metadata": {},
     "output_type": "execute_result"
    }
   ],
   "source": [
    "# initially putting the fare_amount column of test dataset = 0\n",
    "df_test[\"fare_amount\"]=0\n",
    "df_test.head()"
   ]
  },
  {
   "cell_type": "code",
   "execution_count": 292,
   "metadata": {},
   "outputs": [
    {
     "data": {
      "text/plain": [
       "pickup_longitude     float64\n",
       "dropoff_longitude    float64\n",
       "passenger_count        int64\n",
       "month                float64\n",
       "hours                float64\n",
       "Distance             float64\n",
       "fare_amount            int64\n",
       "dtype: object"
      ]
     },
     "execution_count": 292,
     "metadata": {},
     "output_type": "execute_result"
    }
   ],
   "source": [
    "# lets check the datatype of test dataset\n",
    "df_test.dtypes"
   ]
  },
  {
   "cell_type": "code",
   "execution_count": 293,
   "metadata": {},
   "outputs": [],
   "source": [
    "# converting int to float datatype\n",
    "df_test['passenger_count'] = pd.to_numeric(df_test['passenger_count'], downcast='float')\n",
    "df_test[\"fare_amount\"]=pd.to_numeric(df_test[\"fare_amount\"],downcast=\"float\")"
   ]
  },
  {
   "cell_type": "code",
   "execution_count": 297,
   "metadata": {},
   "outputs": [
    {
     "data": {
      "text/plain": [
       "pickup_longitude     0\n",
       "dropoff_longitude    0\n",
       "passenger_count      0\n",
       "month                1\n",
       "hours                1\n",
       "Distance             0\n",
       "fare_amount          0\n",
       "dtype: int64"
      ]
     },
     "execution_count": 297,
     "metadata": {},
     "output_type": "execute_result"
    }
   ],
   "source": [
    "df_test.isnull().sum()"
   ]
  },
  {
   "cell_type": "code",
   "execution_count": 298,
   "metadata": {},
   "outputs": [
    {
     "data": {
      "text/plain": [
       "pickup_longitude     0\n",
       "dropoff_longitude    0\n",
       "passenger_count      0\n",
       "month                0\n",
       "hours                0\n",
       "Distance             0\n",
       "fare_amount          0\n",
       "dtype: int64"
      ]
     },
     "execution_count": 298,
     "metadata": {},
     "output_type": "execute_result"
    }
   ],
   "source": [
    "df_test= df_test.fillna(df_test.median())\n",
    "df_test.isnull().sum()"
   ]
  },
  {
   "cell_type": "code",
   "execution_count": 299,
   "metadata": {},
   "outputs": [
    {
     "data": {
      "text/plain": [
       "array([ 6.78618879, 10.4704382 ,  6.78618879, ..., 15.82296864,\n",
       "       15.82296864,  6.78618879])"
      ]
     },
     "execution_count": 299,
     "metadata": {},
     "output_type": "execute_result"
    }
   ],
   "source": [
    "#prediction of fare amount values in test data set\n",
    "prediction_test_DT=fit_model.predict(df_test.iloc[:,0:6])\n",
    "prediction_test_DT"
   ]
  },
  {
   "cell_type": "code",
   "execution_count": 305,
   "metadata": {},
   "outputs": [
    {
     "data": {
      "text/plain": [
       "3.5201997511345517"
      ]
     },
     "execution_count": 305,
     "metadata": {},
     "output_type": "execute_result"
    }
   ],
   "source": [
    "#root mean square error of train data\n",
    "rmse(prediction_DT,test.iloc[:,6])"
   ]
  },
  {
   "cell_type": "code",
   "execution_count": 301,
   "metadata": {},
   "outputs": [],
   "source": [
    "# putting the values in the fare_amount column of test dataset\n",
    "df_test[\"fare_amount\"]=prediction_test_DT"
   ]
  },
  {
   "cell_type": "code",
   "execution_count": 302,
   "metadata": {},
   "outputs": [
    {
     "data": {
      "text/html": [
       "<div>\n",
       "<style scoped>\n",
       "    .dataframe tbody tr th:only-of-type {\n",
       "        vertical-align: middle;\n",
       "    }\n",
       "\n",
       "    .dataframe tbody tr th {\n",
       "        vertical-align: top;\n",
       "    }\n",
       "\n",
       "    .dataframe thead th {\n",
       "        text-align: right;\n",
       "    }\n",
       "</style>\n",
       "<table border=\"1\" class=\"dataframe\">\n",
       "  <thead>\n",
       "    <tr style=\"text-align: right;\">\n",
       "      <th></th>\n",
       "      <th>pickup_longitude</th>\n",
       "      <th>dropoff_longitude</th>\n",
       "      <th>passenger_count</th>\n",
       "      <th>month</th>\n",
       "      <th>hours</th>\n",
       "      <th>Distance</th>\n",
       "      <th>fare_amount</th>\n",
       "    </tr>\n",
       "  </thead>\n",
       "  <tbody>\n",
       "    <tr>\n",
       "      <th>0</th>\n",
       "      <td>0.220338</td>\n",
       "      <td>0.221502</td>\n",
       "      <td>1.0</td>\n",
       "      <td>0.778151</td>\n",
       "      <td>0.739130</td>\n",
       "      <td>0.028080</td>\n",
       "      <td>6.786189</td>\n",
       "    </tr>\n",
       "    <tr>\n",
       "      <th>1</th>\n",
       "      <td>0.209638</td>\n",
       "      <td>0.207781</td>\n",
       "      <td>1.0</td>\n",
       "      <td>0.000000</td>\n",
       "      <td>0.695652</td>\n",
       "      <td>0.031841</td>\n",
       "      <td>10.470438</td>\n",
       "    </tr>\n",
       "    <tr>\n",
       "      <th>2</th>\n",
       "      <td>0.213066</td>\n",
       "      <td>0.222898</td>\n",
       "      <td>1.0</td>\n",
       "      <td>0.903090</td>\n",
       "      <td>0.000000</td>\n",
       "      <td>0.007991</td>\n",
       "      <td>6.786189</td>\n",
       "    </tr>\n",
       "    <tr>\n",
       "      <th>3</th>\n",
       "      <td>0.214143</td>\n",
       "      <td>0.214414</td>\n",
       "      <td>1.0</td>\n",
       "      <td>0.602060</td>\n",
       "      <td>0.173913</td>\n",
       "      <td>0.025460</td>\n",
       "      <td>6.786189</td>\n",
       "    </tr>\n",
       "    <tr>\n",
       "      <th>4</th>\n",
       "      <td>0.226085</td>\n",
       "      <td>0.215894</td>\n",
       "      <td>1.0</td>\n",
       "      <td>0.477121</td>\n",
       "      <td>0.304348</td>\n",
       "      <td>0.067867</td>\n",
       "      <td>15.822969</td>\n",
       "    </tr>\n",
       "  </tbody>\n",
       "</table>\n",
       "</div>"
      ],
      "text/plain": [
       "   pickup_longitude  dropoff_longitude  passenger_count     month     hours  \\\n",
       "0          0.220338           0.221502              1.0  0.778151  0.739130   \n",
       "1          0.209638           0.207781              1.0  0.000000  0.695652   \n",
       "2          0.213066           0.222898              1.0  0.903090  0.000000   \n",
       "3          0.214143           0.214414              1.0  0.602060  0.173913   \n",
       "4          0.226085           0.215894              1.0  0.477121  0.304348   \n",
       "\n",
       "   Distance  fare_amount  \n",
       "0  0.028080     6.786189  \n",
       "1  0.031841    10.470438  \n",
       "2  0.007991     6.786189  \n",
       "3  0.025460     6.786189  \n",
       "4  0.067867    15.822969  "
      ]
     },
     "execution_count": 302,
     "metadata": {},
     "output_type": "execute_result"
    }
   ],
   "source": [
    "#Lets now see first 5 rows of the dataset\n",
    "df_test.head()"
   ]
  },
  {
   "cell_type": "code",
   "execution_count": null,
   "metadata": {},
   "outputs": [],
   "source": []
  }
 ],
 "metadata": {
  "kernelspec": {
   "display_name": "Python 3",
   "language": "python",
   "name": "python3"
  },
  "language_info": {
   "codemirror_mode": {
    "name": "ipython",
    "version": 3
   },
   "file_extension": ".py",
   "mimetype": "text/x-python",
   "name": "python",
   "nbconvert_exporter": "python",
   "pygments_lexer": "ipython3",
   "version": "3.7.3"
  }
 },
 "nbformat": 4,
 "nbformat_minor": 2
}
